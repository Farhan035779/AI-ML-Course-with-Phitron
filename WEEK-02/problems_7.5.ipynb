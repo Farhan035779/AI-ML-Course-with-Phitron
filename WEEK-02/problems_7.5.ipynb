{
 "cells": [
  {
   "cell_type": "markdown",
   "id": "a4bf5be5-2370-4390-be5b-e7a1300102f7",
   "metadata": {},
   "source": [
    "## Problem 1: Common Friends (Set Operations)\n",
    "#### Problem:\n",
    "#### Given two sets of friends from two people, find the mutual friends, unique friends of each, and the total number of unique friends.\n",
    "#### Example Input:\n",
    "#### a_friends = {\"Rahim\", \"Karim\", \"Sakib\", \"Jamal\"}\n",
    "#### b_friends = {\"Sakib\", \"Jamal\", \"Rafiq\", \"Nadim\"}\n",
    "\n",
    "#### Expected Output:\n",
    "#### Mutual friends: {'Sakib', 'Jamal'}\n",
    "#### Unique to A: {'Rahim', 'Karim'}\n",
    "#### Unique to B: {'Rafiq', 'Nadim'}\n",
    "#### Total unique friends: 6"
   ]
  },
  {
   "cell_type": "code",
   "execution_count": 2,
   "id": "0c0d499b-ecac-49ce-8ade-3e6ffb5e3dfc",
   "metadata": {},
   "outputs": [
    {
     "name": "stdout",
     "output_type": "stream",
     "text": [
      "Mutual friends: {'Jamal', 'Sakib'}\n",
      "Unique to A: {'Karim', 'Rahim'}\n",
      "Unique to B: {'Rafiq', 'Nadim'}\n",
      "Total unique friends: 6\n"
     ]
    }
   ],
   "source": [
    "a_friends = {\"Rahim\", \"Karim\", \"Sakib\", \"Jamal\"}\n",
    "b_friends = {\"Sakib\", \"Jamal\", \"Rafiq\", \"Nadim\"}\n",
    "\n",
    "mutual_friends = a_friends.intersection(b_friends)\n",
    "unique_a_friends = a_friends.difference(b_friends)\n",
    "unique_b_friends = b_friends.difference(a_friends)\n",
    "unique_total = len(a_friends.union(b_friends))\n",
    "\n",
    "print(f\"Mutual friends: {mutual_friends}\")\n",
    "print(f\"Unique to A: {unique_a_friends}\")\n",
    "print(f\"Unique to B: {unique_b_friends}\")\n",
    "print(f\"Total unique friends: {unique_total}\")"
   ]
  },
  {
   "cell_type": "markdown",
   "id": "318f9d18-34ad-4bea-bf85-7f3d10374ff9",
   "metadata": {},
   "source": [
    "## Problem 2: Sort Students by Marks (Tuple + Dictionary)\n",
    "#### Problem:\n",
    "#### You are given a list of tuples — each containing a student’s name and mark.\n",
    "#### Sort them in descending order of marks and print the top 3 scorers.\n",
    "#### Example Input:\n",
    "#### students = [(\"Rafi\", 89), (\"Sumi\", 95), (\"Hasan\", 90), (\"Nila\", 75), (\"Anik\", 98)]\n",
    "\n",
    "#### Expected Output:\n",
    "#### Top 3 students:\n",
    "#### Anik - 98\n",
    "#### Sumi - 95\n",
    "#### Hasan - 90"
   ]
  },
  {
   "cell_type": "code",
   "execution_count": 25,
   "id": "ceffe0c0-30fd-4e75-8bce-c7010f8dfd5a",
   "metadata": {},
   "outputs": [
    {
     "name": "stdout",
     "output_type": "stream",
     "text": [
      "Top 3 students:\n",
      "Anik - 98\n",
      "Sumi - 95\n",
      "Hasan - 90\n"
     ]
    }
   ],
   "source": [
    "students = [(\"Rafi\", 89), (\"Sumi\", 95), (\"Hasan\", 90), (\"Nila\", 75), (\"Anik\", 98)]\n",
    "def sort_it(student):\n",
    "    return student[1]\n",
    "\n",
    "students.sort(reverse = True, key = sort_it)\n",
    "print(\"Top 3 students:\")\n",
    "for i in range(3):\n",
    "    print(f\"{students[i][0]} - {students[i][1]}\")"
   ]
  },
  {
   "cell_type": "markdown",
   "id": "37012226-6532-4a94-8266-63c1d69e7886",
   "metadata": {},
   "source": [
    "## Problem 3: Word Length Filter (Lambda + Filter)\n",
    "#### Problem:\n",
    "#### Given a list of words, use filter() and lambda to return only words whose length is greater than 4.\n",
    "#### Example Input:\n",
    "#### words = [\"sun\", \"planet\", \"moon\", \"star\", \"universe\"]\n",
    "\n",
    "#### Expected Output:\n",
    "#### ['planet', 'universe']"
   ]
  },
  {
   "cell_type": "code",
   "execution_count": 6,
   "id": "459b46a5-845c-45a2-bf13-526e560042ee",
   "metadata": {},
   "outputs": [
    {
     "name": "stdout",
     "output_type": "stream",
     "text": [
      "['planet', 'universe']\n"
     ]
    }
   ],
   "source": [
    "words = [\"sun\", \"planet\", \"moon\", \"star\", \"universe\"]\n",
    "\n",
    "filtered = list(filter(lambda x : len(x)>4, words))\n",
    "print(filtered)"
   ]
  },
  {
   "cell_type": "markdown",
   "id": "2ade760f-1ceb-47e4-bea9-64e4f654eb7e",
   "metadata": {},
   "source": [
    "## Problem 4: Square of Even Numbers (Map + Filter + Lambda)\n",
    "#### Problem:\n",
    "#### Write a one-line Python expression using map(), filter(), and lambda that takes a list of integers and returns the squares of even numbers only.\n",
    "#### Example Input:\n",
    "#### nums = [1, 2, 3, 4, 5, 6]\n",
    "\n",
    "#### Expected Output:\n",
    "#### [4, 16, 36]"
   ]
  },
  {
   "cell_type": "code",
   "execution_count": 7,
   "id": "252e43c3-e7bb-4471-a5fd-3cd860e6a618",
   "metadata": {},
   "outputs": [
    {
     "name": "stdout",
     "output_type": "stream",
     "text": [
      "[4, 16, 36]\n"
     ]
    }
   ],
   "source": [
    "nums = [1, 2, 3, 4, 5, 6]\n",
    "sq_even = list(map(lambda x : x**2, list(filter(lambda x : x % 2 == 0, nums))))\n",
    "print(sq_even)"
   ]
  },
  {
   "cell_type": "markdown",
   "id": "d868c1d4-06db-4a3f-be69-0e5b89a47b57",
   "metadata": {},
   "source": [
    "## Problem 5: Write and Read a File\n",
    "#### Problem:\n",
    "#### Write a Python program to:\n",
    "#### Create a text file named data.txt\n",
    "\n",
    "#### Write “Learning Python is fun!” into it.\n",
    "\n",
    "#### Read the file and print its content."
   ]
  },
  {
   "cell_type": "code",
   "execution_count": 10,
   "id": "09e7b64c-e57d-4550-bc93-a4f8bc851b23",
   "metadata": {},
   "outputs": [
    {
     "name": "stdout",
     "output_type": "stream",
     "text": [
      "Learning Python is fun!\n"
     ]
    }
   ],
   "source": [
    "with open(\"C:/Users/hp/Desktop/Phitron AI_ML/WEEK_02 (Data Structures, Functions, File Handling)/data.txt\", \"w+\") as file:\n",
    "    file.write(\"Learning Python is fun!\")\n",
    "    file.seek(0)\n",
    "    print(file.read())"
   ]
  },
  {
   "cell_type": "markdown",
   "id": "11a06806-2194-447a-8b50-829a9a4812e6",
   "metadata": {},
   "source": [
    "## Problem 6: Count Lines in a File\n",
    "#### Problem:\n",
    "#### Write a Python program to count how many lines are in a text file named story.txt.\n",
    "#### If the file does not exist, handle the exception and print an error message, otherwise read the text file ( test it with both conditions ). Print a message finally. "
   ]
  },
  {
   "cell_type": "code",
   "execution_count": 12,
   "id": "12e2df56-d02c-4abb-a1bf-61615ed25bc1",
   "metadata": {},
   "outputs": [
    {
     "name": "stdout",
     "output_type": "stream",
     "text": [
      "1\n",
      "End of program\n"
     ]
    }
   ],
   "source": [
    "try:\n",
    "    with open(\"C:/Users/hp/Desktop/Phitron AI_ML/WEEK_02 (Data Structures, Functions, File Handling)/story.txt\", \"r\") as file:\n",
    "        content = file.readlines()\n",
    "        print(len(content))\n",
    "except Exception as e:\n",
    "    print(e)\n",
    "finally:\n",
    "    print(\"End of program\")"
   ]
  },
  {
   "cell_type": "code",
   "execution_count": null,
   "id": "24e0b966-f717-4ae6-a92c-5f8d5dab2196",
   "metadata": {},
   "outputs": [],
   "source": []
  }
 ],
 "metadata": {
  "kernelspec": {
   "display_name": "Python [conda env:base] *",
   "language": "python",
   "name": "conda-base-py"
  },
  "language_info": {
   "codemirror_mode": {
    "name": "ipython",
    "version": 3
   },
   "file_extension": ".py",
   "mimetype": "text/x-python",
   "name": "python",
   "nbconvert_exporter": "python",
   "pygments_lexer": "ipython3",
   "version": "3.13.5"
  }
 },
 "nbformat": 4,
 "nbformat_minor": 5
}
