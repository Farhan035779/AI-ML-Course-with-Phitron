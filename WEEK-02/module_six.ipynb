{
 "cells": [
  {
   "cell_type": "markdown",
   "id": "67db82b3-cb06-4ce9-9c59-761cde472189",
   "metadata": {},
   "source": [
    "### FUNCTION PARAMETERS"
   ]
  },
  {
   "cell_type": "code",
   "execution_count": 1,
   "id": "9b060c6a-e9b8-4ff6-a789-8893b15fc937",
   "metadata": {},
   "outputs": [
    {
     "name": "stdout",
     "output_type": "stream",
     "text": [
      "hello adil\n"
     ]
    }
   ],
   "source": [
    "def greet(user = \"guest\"):\n",
    "    print(f\"hello {user}\")\n",
    "\n",
    "greet(\"adil\")"
   ]
  },
  {
   "cell_type": "code",
   "execution_count": 2,
   "id": "1ba3c1e9-661b-4cd2-b1d4-0925820d2cd7",
   "metadata": {},
   "outputs": [
    {
     "name": "stdout",
     "output_type": "stream",
     "text": [
      "10 20 30\n",
      "540\n",
      "30 10 20\n",
      "1030\n"
     ]
    }
   ],
   "source": [
    "def square_addition(a,b,c):\n",
    "    print(f\"{a} {b} {c}\")\n",
    "    a=a**2 \n",
    "    b=b**2 \n",
    "    return a+b+c\n",
    "    \n",
    "#positional argument\n",
    "ans = square_addition(10,20,30) + 10 \n",
    "print(ans) \n",
    "\n",
    "#keyword argument\n",
    "ans = square_addition(b=10,c=20,a=30) + 10 \n",
    "print(ans)"
   ]
  },
  {
   "cell_type": "code",
   "execution_count": 3,
   "id": "1caf8422-09d6-49eb-847f-1d50dcb7998e",
   "metadata": {},
   "outputs": [
    {
     "name": "stdout",
     "output_type": "stream",
     "text": [
      "5500\n"
     ]
    }
   ],
   "source": [
    "def square_addition(*args):\n",
    "    summation =0 \n",
    "    for i in args:\n",
    "        i = i**2 \n",
    "        summation+=i\n",
    "    return summation\n",
    "\n",
    "ans = square_addition(10,20,30,40,50) #joto iccha toto arguments\n",
    "print(ans)"
   ]
  },
  {
   "cell_type": "code",
   "execution_count": 5,
   "id": "339290e9-bacc-49aa-8cc0-daf35f192421",
   "metadata": {},
   "outputs": [
    {
     "name": "stdout",
     "output_type": "stream",
     "text": [
      "name : adil\n",
      "cls : 10\n",
      "roll : 30\n",
      "marks : 30.5\n"
     ]
    }
   ],
   "source": [
    "def student(**kwargs):  #keyword arguments\n",
    "    for key,val in kwargs.items():\n",
    "        print(f\"{key} : {val}\")\n",
    "\n",
    "student(name = \"adil\" , cls = 10 , roll = 30 , marks = 30.5) "
   ]
  },
  {
   "cell_type": "markdown",
   "id": "702c1d15-e8e6-45d5-aaef-3cf4612a64c9",
   "metadata": {},
   "source": [
    "### RETURN TYPES"
   ]
  },
  {
   "cell_type": "code",
   "execution_count": 8,
   "id": "eeac4b59-4607-4289-9b57-47a3d97e57d0",
   "metadata": {},
   "outputs": [
    {
     "name": "stdout",
     "output_type": "stream",
     "text": [
      "<class 'int'>\n",
      "<class 'float'>\n",
      "<class 'str'>\n"
     ]
    }
   ],
   "source": [
    "def give_prediction():\n",
    "    return 10 \n",
    "\n",
    "print(type(give_prediction()))\n",
    "\n",
    "def give_prediction_1():\n",
    "    return 10.5 \n",
    "\n",
    "print(type(give_prediction_1()))\n",
    "\n",
    "def give_prediction_2():\n",
    "    return \"name\" \n",
    "\n",
    "print(type(give_prediction_2()))"
   ]
  },
  {
   "cell_type": "code",
   "execution_count": 12,
   "id": "25cbb91d-ee73-4cff-bc01-dd40200c6b79",
   "metadata": {},
   "outputs": [
    {
     "name": "stdout",
     "output_type": "stream",
     "text": [
      "<class 'tuple'>\n",
      "[10, 20, 30]\n",
      "[20, 30, 40]\n"
     ]
    }
   ],
   "source": [
    "def give_prediction():\n",
    "    a= [10,20,30]\n",
    "    b= [20,30,40]\n",
    "    return a,b \n",
    "\n",
    "print(type(give_prediction()))\n",
    "\n",
    "## unpacking \n",
    "x , y = give_prediction()\n",
    "\n",
    "print(x)\n",
    "print(y)"
   ]
  },
  {
   "cell_type": "code",
   "execution_count": 13,
   "id": "990d9f12-d23c-4e3e-8fa3-26b40eff985d",
   "metadata": {},
   "outputs": [
    {
     "name": "stdout",
     "output_type": "stream",
     "text": [
      "<class 'tuple'>\n",
      "{10, 20, 30}\n",
      "[100, 200, 300]\n"
     ]
    }
   ],
   "source": [
    "def give_prediction():\n",
    "    a = {10,20,30}\n",
    "    b = [100,200,300]\n",
    "    return a,b \n",
    "\n",
    "x = give_prediction()\n",
    "print(type(x))\n",
    "\n",
    "for item in x:\n",
    "    print(item)"
   ]
  },
  {
   "cell_type": "code",
   "execution_count": 17,
   "id": "4bb84037-10c9-4529-b518-c076aaa9a08c",
   "metadata": {},
   "outputs": [
    {
     "name": "stdout",
     "output_type": "stream",
     "text": [
      "<class 'dict'>\n",
      "name abrar\n",
      "addr dhaka\n"
     ]
    }
   ],
   "source": [
    "def give_prediction():\n",
    "    return { \"name\" : \"adil\" , \"addr\" : \"Ctg\"},{ \"name\" : \"abrar\" , \"addr\" : \"dhaka\"}\n",
    "\n",
    "x,y = give_prediction()\n",
    "print(type(x))\n",
    "\n",
    "for item, utem in y.items():\n",
    "    print(item, utem)"
   ]
  },
  {
   "cell_type": "markdown",
   "id": "84bf958f-300e-4e1d-b9ea-23f839f8db89",
   "metadata": {},
   "source": [
    "### ITERATOR"
   ]
  },
  {
   "cell_type": "code",
   "execution_count": 18,
   "id": "cebf1161-be16-4756-b61d-981594ddd35a",
   "metadata": {},
   "outputs": [
    {
     "name": "stdout",
     "output_type": "stream",
     "text": [
      "50\n",
      "20\n",
      "40\n",
      "10\n",
      "30\n",
      "50\n",
      "20\n",
      "40\n",
      "10\n",
      "30\n"
     ]
    }
   ],
   "source": [
    "s = {10 , 20 , 30 , 40 , 50 }\n",
    "\n",
    "s_iter = iter(s) \n",
    "print(next(s_iter))\n",
    "print(next(s_iter))\n",
    "print(next(s_iter))\n",
    "print(next(s_iter))\n",
    "print(next(s_iter))\n",
    "\n",
    "for i in s:\n",
    "    print(i) "
   ]
  },
  {
   "cell_type": "markdown",
   "id": "63ee079e-9b2e-4ee0-9723-d8ed678cace0",
   "metadata": {},
   "source": [
    "### GENERATOR"
   ]
  },
  {
   "cell_type": "code",
   "execution_count": 20,
   "id": "7fc708d9-6ce6-4b27-99a7-39d94450a5ef",
   "metadata": {},
   "outputs": [
    {
     "name": "stdout",
     "output_type": "stream",
     "text": [
      "[0, 1, 2, 3, 4, 5, 6, 7, 8, 9]\n",
      "[10, 11, 12, 13, 14, 15, 16, 17, 18, 19]\n"
     ]
    }
   ],
   "source": [
    "lst = [ x for x in range(500) ] # dataset \n",
    "\n",
    "def data_loader(chunk_size,lst):\n",
    "    for i in range(0,len(lst),chunk_size):\n",
    "        yield lst[i:i+chunk_size]\n",
    "\n",
    "x = data_loader(10,lst) \n",
    "\n",
    "print(next(x))\n",
    "print(next(x))"
   ]
  },
  {
   "cell_type": "markdown",
   "id": "ac608c06-9043-4747-a7fc-f33356e98eb9",
   "metadata": {},
   "source": [
    "### LAMBDA FUNCTION"
   ]
  },
  {
   "cell_type": "code",
   "execution_count": 22,
   "id": "a7d08f48-9771-4670-b22f-ee0f723cb47e",
   "metadata": {},
   "outputs": [
    {
     "name": "stdout",
     "output_type": "stream",
     "text": [
      "13\n"
     ]
    }
   ],
   "source": [
    "def square_addition(x,y): #normal function definition\n",
    "    return x**2 + y**2 \n",
    "    \n",
    "sq_add = lambda x,y : x**2 + y**2 \n",
    "print(sq_add(2,3))"
   ]
  },
  {
   "cell_type": "markdown",
   "id": "1c8486ca-9307-44a0-b8bb-b6b2a4e1e85b",
   "metadata": {},
   "source": [
    "### MAP"
   ]
  },
  {
   "cell_type": "code",
   "execution_count": 23,
   "id": "92bac730-2451-4906-a5a5-6078663168a7",
   "metadata": {},
   "outputs": [
    {
     "name": "stdout",
     "output_type": "stream",
     "text": [
      "[1, 4, 9, 16, 25, 36]\n"
     ]
    }
   ],
   "source": [
    "lst = [ 1 ,2 ,3 ,4 ,5 ,6 ]\n",
    "\n",
    "def square(x):\n",
    "    return x**2 \n",
    "\n",
    "lst = list(map(square , lst)) #you through object, not call the function\n",
    "print(lst)"
   ]
  },
  {
   "cell_type": "code",
   "execution_count": 26,
   "id": "b5382675-6068-436f-a179-ba28ce48edcc",
   "metadata": {},
   "outputs": [
    {
     "name": "stdout",
     "output_type": "stream",
     "text": [
      "['H', 'E', 'L', 'L', 'O', ' ', 'W', 'O', 'R', 'L', 'D', ',', ' ', 'W', 'E', 'L', 'C', 'O', 'M', 'E', ' ', 'T', 'O', ' ', 'T', 'H', 'E', ' ', 'A', 'G', 'E', ' ', 'O', 'F', ' ', 'A', 'I']\n",
      "HELLO WORLD, WELCOME TO THE AGE OF AI\n"
     ]
    }
   ],
   "source": [
    "# string \n",
    "string = \"hello world, welcome to the age of AI\"\n",
    "string1 = list(map(str.upper , string))\n",
    "print(string1)\n",
    "string1 = \"\".join(string1)\n",
    "print(string1)"
   ]
  },
  {
   "cell_type": "code",
   "execution_count": 27,
   "id": "7052b8e3-7701-4b09-8f30-f74925c88356",
   "metadata": {},
   "outputs": [
    {
     "name": "stdout",
     "output_type": "stream",
     "text": [
      "[1, 4, 9, 16, 25, 36]\n"
     ]
    }
   ],
   "source": [
    "# map with lambda function \n",
    "lst = [ 1, 2, 3, 4, 5, 6 ]\n",
    "lst = list(map(lambda x : x**2,lst))\n",
    "print(lst)"
   ]
  },
  {
   "cell_type": "markdown",
   "id": "73c700c0-f777-4dc4-9b1a-9559788d1557",
   "metadata": {},
   "source": [
    "### FILTER"
   ]
  },
  {
   "cell_type": "code",
   "execution_count": 28,
   "id": "b6384357-de5a-4ff6-89ab-9fd6f1a9515e",
   "metadata": {},
   "outputs": [
    {
     "name": "stdout",
     "output_type": "stream",
     "text": [
      "[0, 2, 4, 6, 8, 10, 12, 14, 16, 18, 20, 22, 24, 26, 28, 30, 32, 34, 36, 38, 40, 42, 44, 46, 48, 50, 52, 54, 56, 58, 60, 62, 64, 66, 68, 70, 72, 74, 76, 78, 80, 82, 84, 86, 88, 90, 92, 94, 96, 98]\n",
      "[51, 52, 53, 54, 55, 56, 57, 58, 59, 60, 61, 62, 63, 64, 65, 66, 67, 68, 69, 70, 71, 72, 73, 74, 75, 76, 77, 78, 79, 80, 81, 82, 83, 84, 85, 86, 87, 88, 89, 90, 91, 92, 93, 94, 95, 96, 97, 98, 99]\n"
     ]
    }
   ],
   "source": [
    "numbers = [x for x in range(100)]\n",
    "\n",
    "# even \n",
    "even = list(filter( lambda x : x % 2 ==0,numbers))\n",
    "print(even)\n",
    "\n",
    "fifty_upper = list(filter( lambda x : x >50,numbers))\n",
    "print(fifty_upper)"
   ]
  },
  {
   "cell_type": "code",
   "execution_count": 29,
   "id": "6c882fe8-c959-409a-8dd9-2c3ded4e463a",
   "metadata": {},
   "outputs": [
    {
     "name": "stdout",
     "output_type": "stream",
     "text": [
      "[1, 'Hello', [1, 2], True]\n"
     ]
    }
   ],
   "source": [
    "data = [0, 1, '', None, 'Hello', [], [1, 2], None, True, False, None]\n",
    "\n",
    "cleaned_data = list(filter(None, data))\n",
    "\n",
    "print(cleaned_data) "
   ]
  },
  {
   "cell_type": "code",
   "execution_count": 30,
   "id": "d6c77ff4-7817-4703-9b0d-5e845792be70",
   "metadata": {},
   "outputs": [
    {
     "name": "stdout",
     "output_type": "stream",
     "text": [
      "['E', 'O', 'O', 'E', 'O', 'E', 'O', 'E', 'A', 'E', 'O', 'A', 'I']\n"
     ]
    }
   ],
   "source": [
    "# string \n",
    "\n",
    "vowel_ = list(filter( lambda x : x in \"AEIOU\" , string1))\n",
    "\n",
    "print(vowel_)"
   ]
  },
  {
   "cell_type": "markdown",
   "id": "3e01ab5e-1d3a-4df4-93a5-b1435c846f1f",
   "metadata": {},
   "source": [
    "### REDUCE"
   ]
  },
  {
   "cell_type": "code",
   "execution_count": 31,
   "id": "ec9bc53f-b703-4196-b742-c8f42484aead",
   "metadata": {},
   "outputs": [],
   "source": [
    "from functools import reduce"
   ]
  },
  {
   "cell_type": "code",
   "execution_count": 32,
   "id": "76279ab7-635f-403b-90e4-bf15eef13254",
   "metadata": {},
   "outputs": [
    {
     "name": "stdout",
     "output_type": "stream",
     "text": [
      "21\n"
     ]
    }
   ],
   "source": [
    "lst = [ 1,2,3,4,5,6 ]\n",
    "\n",
    "summation = reduce(lambda x,y : x+y , lst) \n",
    "\n",
    "print(summation)"
   ]
  },
  {
   "cell_type": "code",
   "execution_count": 34,
   "id": "e99dc960-38ce-4d0c-9ccf-339cc2c43200",
   "metadata": {},
   "outputs": [
    {
     "name": "stdout",
     "output_type": "stream",
     "text": [
      "['hello', 'world', 'welcome', 'to', 'programming']\n",
      "hello world welcome to programming\n"
     ]
    }
   ],
   "source": [
    "lst = [ \"hello\", \"world\", \"welcome\", \"to\", \"programming\"]\n",
    "print(lst)\n",
    "\n",
    "string = reduce(lambda x,y : x + \" \" + y ,lst) \n",
    "print(string)"
   ]
  },
  {
   "cell_type": "code",
   "execution_count": null,
   "id": "9d271063-8680-4c5a-8040-d983182d7d4a",
   "metadata": {},
   "outputs": [],
   "source": []
  }
 ],
 "metadata": {
  "kernelspec": {
   "display_name": "Python [conda env:base] *",
   "language": "python",
   "name": "conda-base-py"
  },
  "language_info": {
   "codemirror_mode": {
    "name": "ipython",
    "version": 3
   },
   "file_extension": ".py",
   "mimetype": "text/x-python",
   "name": "python",
   "nbconvert_exporter": "python",
   "pygments_lexer": "ipython3",
   "version": "3.13.5"
  }
 },
 "nbformat": 4,
 "nbformat_minor": 5
}
