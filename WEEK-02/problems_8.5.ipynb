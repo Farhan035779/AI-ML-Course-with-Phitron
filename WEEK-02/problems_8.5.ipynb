{
 "cells": [
  {
   "cell_type": "markdown",
   "id": "7c9de4a5-7a1a-409d-8753-d12758745e1b",
   "metadata": {},
   "source": [
    "## PROBLEM DAY 8.5\n",
    "\n",
    "#### Project Name: \n",
    "##### Smart Vehicle Classifier\n",
    "#### Description\n",
    "##### This project simulates a simple AI-based vehicle classifier using Object-Oriented Programming (OOP).\n",
    "##### It demonstrates inheritance, protected and private members, method overriding, and encapsulation.\n",
    "##### The program manages two types of vehicles: Car and Bike. Each class inherits from a base class Vehicle.\n",
    "##### A simple classifier method predicts the type of vehicle based on its speed threshold.\n",
    "#### Task Statement\n",
    "##### Design and implement a simple program that classifies vehicles based on their type and speed using Object-Oriented Programming (OOP) principles.\n",
    "#### You must:\n",
    "##### Create a base class Vehicle that stores vehicle type, name, and speed.\n",
    "##### Use protected and private attributes in the base class to demonstrate encapsulation.\n",
    "##### Implement a method classify() that categorizes vehicles as High-speed Vehicle if the speed is greater than 100, otherwise Normal Vehicle.\n",
    "##### Derive two subclasses — Car and Bike — from Vehicle. Each should override the show_info() method to display detailed information.\n",
    "##### Read multiple inputs representing different vehicles, create corresponding objects, and print their details along with their classification results.\n",
    "#### Input\n",
    "##### 3\n",
    "##### Car Toyota 150\n",
    "##### Bike Yamaha 90\n",
    "##### Car Honda 120\n",
    "#### Output\n",
    "##### Car Added: Toyota\n",
    "##### Bike Added: Yamaha\n",
    "##### Car Added: Honda\n",
    "#### --- Vehicle Details ---\n",
    "##### Type: Car, Name: Toyota, Speed: 150 km/h, Predicted: High-speed Vehicle\n",
    "##### Type: Bike, Name: Yamaha, Speed: 90 km/h, Predicted: Normal Vehicle\n",
    "##### Type: Car, Name: Honda, Speed: 120 km/h, Predicted: High-speed Vehicle\n",
    "#### Short Hint\n",
    "##### Use a base class Vehicle with protected and private attributes.\n",
    "##### Create subclasses Car and Bike that override show_info() and add a simple speed-based classifier.\n",
    "##### Speed above 100 is considered a \"High-speed Vehicle\"."
   ]
  },
  {
   "cell_type": "code",
   "execution_count": 24,
   "id": "867171bf-3dcf-4d92-975b-426b9471ef3f",
   "metadata": {},
   "outputs": [],
   "source": [
    "class Vehicle():\n",
    "    def __init__(self, vehicle_type, name, speed):\n",
    "        self.__vehicle_type = vehicle_type\n",
    "        self.__name = name\n",
    "        self.__speed = speed\n",
    "\n",
    "    def vehicle_type_getter(self):\n",
    "        return self.__vehicle_type\n",
    "\n",
    "    def name_getter(self):\n",
    "        return self.__name\n",
    "\n",
    "    def speed_getter(self):\n",
    "        return self.__speed\n",
    "\n",
    "    def classify(self):\n",
    "        if (self.__speed) > 100:\n",
    "            return \"High-speed Vehicle\"\n",
    "        else:\n",
    "            return \"Normal Vehicle\"\n",
    "\n",
    "    def show_info(self):\n",
    "        print(\"Info of Car\")\n",
    "\n",
    "class Car(Vehicle):\n",
    "    def __init__(self, vehicle_type, name, speed):\n",
    "        super().__init__(vehicle_type, name, speed)\n",
    "        print(f\"{self.vehicle_type_getter()} added: {self.name_getter()}\")\n",
    "\n",
    "    def show_info(self):\n",
    "        print(f\"Type: {self.vehicle_type_getter()}, Name: {self.name_getter()}, Speed: {self.speed_getter()} km/h, Predicted: {self.classify()}\")\n",
    "\n",
    "class Bike(Vehicle):\n",
    "    def __init__(self, vehicle_type, name, speed):\n",
    "        super().__init__(vehicle_type, name, speed)\n",
    "        print(f\"{self.vehicle_type_getter()} added: {self.name_getter()}\")\n",
    "\n",
    "    def show_info(self):\n",
    "        print(f\"Type: {self.vehicle_type_getter()}, Name: {self.name_getter()}, Speed: {self.speed_getter()} km/h, Predicted: {self.classify()}\")"
   ]
  },
  {
   "cell_type": "code",
   "execution_count": 25,
   "id": "d1ddb729-b698-4c7c-ac96-70bba39b459e",
   "metadata": {},
   "outputs": [
    {
     "name": "stdin",
     "output_type": "stream",
     "text": [
      " 3\n",
      " Car Toyota 150\n"
     ]
    },
    {
     "name": "stdout",
     "output_type": "stream",
     "text": [
      "Car added: Toyota\n"
     ]
    },
    {
     "name": "stdin",
     "output_type": "stream",
     "text": [
      " Bike Yamaha 90\n"
     ]
    },
    {
     "name": "stdout",
     "output_type": "stream",
     "text": [
      "Bike added: Yamaha\n"
     ]
    },
    {
     "name": "stdin",
     "output_type": "stream",
     "text": [
      " Car Honda 120\n"
     ]
    },
    {
     "name": "stdout",
     "output_type": "stream",
     "text": [
      "Car added: Honda\n",
      "--- Vehicle Details ---\n",
      "Type: Car, Name: Toyota, Speed: 150 km/h, Predicted: High-speed Vehicle\n",
      "Type: Bike, Name: Yamaha, Speed: 90 km/h, Predicted: Normal Vehicle\n",
      "Type: Car, Name: Honda, Speed: 120 km/h, Predicted: High-speed Vehicle\n"
     ]
    }
   ],
   "source": [
    "n = int(input())\n",
    "Vehicles = []\n",
    "for i in range(n):\n",
    "    inputs = input()\n",
    "    info = inputs.split(\" \")\n",
    "    #print(info)\n",
    "    if info[0] == \"Car\":\n",
    "        Vehicles.append(Car(info[0], info[1], int(info[2])))\n",
    "    else:\n",
    "        Vehicles.append(Bike(info[0], info[1], int(info[2])))\n",
    "\n",
    "print(\"--- Vehicle Details ---\")\n",
    "for i in range(n):\n",
    "    Vehicles[i].show_info()"
   ]
  },
  {
   "cell_type": "code",
   "execution_count": null,
   "id": "d4cd5c3f-43b6-4990-8bc1-495d6f2ce761",
   "metadata": {},
   "outputs": [],
   "source": []
  }
 ],
 "metadata": {
  "kernelspec": {
   "display_name": "Python [conda env:base] *",
   "language": "python",
   "name": "conda-base-py"
  },
  "language_info": {
   "codemirror_mode": {
    "name": "ipython",
    "version": 3
   },
   "file_extension": ".py",
   "mimetype": "text/x-python",
   "name": "python",
   "nbconvert_exporter": "python",
   "pygments_lexer": "ipython3",
   "version": "3.13.5"
  }
 },
 "nbformat": 4,
 "nbformat_minor": 5
}
