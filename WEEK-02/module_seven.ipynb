{
 "cells": [
  {
   "cell_type": "markdown",
   "id": "2f37345c-c010-4ae4-acba-4b434dccb7e0",
   "metadata": {},
   "source": [
    "### FILE READ"
   ]
  },
  {
   "cell_type": "code",
   "execution_count": 15,
   "id": "7a16e5f3-8932-4443-9461-3f47b4e4cc10",
   "metadata": {},
   "outputs": [
    {
     "name": "stdout",
     "output_type": "stream",
     "text": [
      "C:\\Users\\hp\\Desktop\\Phitron AI_ML\\WEEK_02 (Data Structures, Functions, File Handling)\n"
     ]
    }
   ],
   "source": [
    "import os #current working directory\n",
    "print(os.getcwd())"
   ]
  },
  {
   "cell_type": "code",
   "execution_count": 13,
   "id": "6654ffb6-7c53-45c0-94d3-40f975116aa9",
   "metadata": {},
   "outputs": [
    {
     "name": "stdout",
     "output_type": "stream",
     "text": [
      "Hello world.\n",
      "Welcome to the AI/ML with Phitron.\n",
      "<class 'str'>\n",
      "True\n"
     ]
    }
   ],
   "source": [
    "file = open(\"C:/Users/hp/Desktop/Phitron AI_ML/WEEK_02 (Data Structures, Functions, File Handling)/sample.txt\",\"r\")\n",
    "content = file.read()\n",
    "print(content)\n",
    "print(type(content))\n",
    "\n",
    "file.close() #if not done, data leakage may occur\n",
    "print(file.closed)"
   ]
  },
  {
   "cell_type": "code",
   "execution_count": 12,
   "id": "39968c8c-e549-4cb3-86aa-03976467f574",
   "metadata": {},
   "outputs": [
    {
     "name": "stdout",
     "output_type": "stream",
     "text": [
      "['Hello world.\\n', 'Welcome to the AI/ML with Phitron.']\n",
      "<class 'list'>\n",
      "True\n"
     ]
    }
   ],
   "source": [
    "file = open(\"C:/Users/hp/Desktop/Phitron AI_ML/WEEK_02 (Data Structures, Functions, File Handling)/sample.txt\",\"r\")\n",
    "content = file.readlines() #gives us list of the strings\n",
    "print(content)\n",
    "print(type(content))\n",
    "\n",
    "file.close()\n",
    "print(file.closed)"
   ]
  },
  {
   "cell_type": "code",
   "execution_count": 14,
   "id": "7b997280-3baf-4f68-b219-5ff337916cff",
   "metadata": {},
   "outputs": [
    {
     "name": "stdout",
     "output_type": "stream",
     "text": [
      "['Hello world.\\n', 'Welcome to the AI/ML with Phitron.']\n",
      "True\n"
     ]
    }
   ],
   "source": [
    "with open(\"C:/Users/hp/Desktop/Phitron AI_ML/WEEK_02 (Data Structures, Functions, File Handling)/sample.txt\",\"r\") as file: #when 'with' is done, file gets auto-closed \n",
    "  content = file.readlines()\n",
    "  print(content)\n",
    "\n",
    "print(file.closed)"
   ]
  },
  {
   "cell_type": "code",
   "execution_count": 17,
   "id": "a9cfc101-91f9-499a-897c-130674a02170",
   "metadata": {},
   "outputs": [
    {
     "name": "stdout",
     "output_type": "stream",
     "text": [
      "Hello world.\n",
      "Welcome to the AI/ML with Phitron."
     ]
    }
   ],
   "source": [
    "with open(\"C:/Users/hp/Desktop/Phitron AI_ML/WEEK_02 (Data Structures, Functions, File Handling)/sample.txt\", \"r\") as file:\n",
    "  for line in file:\n",
    "    #print(line)\n",
    "    print(line, end=\"\")"
   ]
  },
  {
   "cell_type": "code",
   "execution_count": 20,
   "id": "103b48b5-4ef9-4ada-8f6f-78c0c28ec76f",
   "metadata": {},
   "outputs": [
    {
     "name": "stdout",
     "output_type": "stream",
     "text": [
      "['Hello world.', 'Welcome to the AI/ML with Phitron.']\n"
     ]
    }
   ],
   "source": [
    "file = open(\"C:/Users/hp/Desktop/Phitron AI_ML/WEEK_02 (Data Structures, Functions, File Handling)/sample.txt\",\"r\")\n",
    "content = file.readlines()\n",
    "content = list(map(str.strip,content))\n",
    "\n",
    "filter_content = list(filter(lambda x : len(x)>=1,content))\n",
    "print(filter_content)\n",
    "#this is done to filter out newlines and empty spaces"
   ]
  },
  {
   "cell_type": "markdown",
   "id": "52f4666d-387f-4232-8b27-2056a0fa1b6e",
   "metadata": {},
   "source": [
    "### FILE WRITE & APPEND"
   ]
  },
  {
   "cell_type": "code",
   "execution_count": 26,
   "id": "b0cc812b-1685-4863-8804-b82b863b6770",
   "metadata": {},
   "outputs": [],
   "source": [
    "#creating a new file and writing there\n",
    "with open(\"C:/Users/hp/Desktop/Phitron AI_ML/WEEK_02 (Data Structures, Functions, File Handling)/test.txt\", \"w\") as file:\n",
    "    file.write(\"Hello test file.\\n\")\n",
    "    file.write(\"How is learning going on?\\n\")"
   ]
  },
  {
   "cell_type": "code",
   "execution_count": 28,
   "id": "058ff04e-413d-41c2-9bd1-4dc8a637b5fe",
   "metadata": {},
   "outputs": [],
   "source": [
    "# writing on an existing file\n",
    "# it overwrites the file\n",
    "with open(\"C:/Users/hp/Desktop/Phitron AI_ML/WEEK_02 (Data Structures, Functions, File Handling)/test.txt\", \"w\") as file:\n",
    "  file.write(\"Second attempt.\\n\")\n",
    "  file.write(\"Learning is going on fast.\\n\")"
   ]
  },
  {
   "cell_type": "code",
   "execution_count": 29,
   "id": "828bef85-04d7-427d-9e88-05786cd342d6",
   "metadata": {},
   "outputs": [],
   "source": [
    "# No overwriting just append the text later\n",
    "# append mode\n",
    "with open(\"C:/Users/hp/Desktop/Phitron AI_ML/WEEK_02 (Data Structures, Functions, File Handling)/test.txt\", \"a\") as file:\n",
    "  file.write(\"The learning of AI/ML is fun.\\n\")\n",
    "  file.write(\"I am enjoying the classes.\\n\")"
   ]
  },
  {
   "cell_type": "code",
   "execution_count": 35,
   "id": "1f54900b-e555-44df-80bc-16ff7d02adec",
   "metadata": {},
   "outputs": [
    {
     "name": "stdout",
     "output_type": "stream",
     "text": [
      "['hellohigood byewhat up']\n"
     ]
    }
   ],
   "source": [
    "strings = ['hello','hi','good bye','what up']\n",
    "with open(\"C:/Users/hp/Desktop/Phitron AI_ML/WEEK_02 (Data Structures, Functions, File Handling)/test2.txt\", \"w\") as file:\n",
    "  file.writelines(strings)\n",
    "\n",
    "with open(\"C:/Users/hp/Desktop/Phitron AI_ML/WEEK_02 (Data Structures, Functions, File Handling)/test2.txt\", \"r\") as file:\n",
    "  print(file.readlines())"
   ]
  },
  {
   "cell_type": "markdown",
   "id": "96487656-4c16-4cb6-be66-38e3268e7ce0",
   "metadata": {},
   "source": [
    "### FILE POINTER"
   ]
  },
  {
   "cell_type": "code",
   "execution_count": 37,
   "id": "92e5d303-f9a4-4b7c-b5bd-d71915aa2a84",
   "metadata": {},
   "outputs": [
    {
     "name": "stdout",
     "output_type": "stream",
     "text": [
      "0\n",
      "Hello world.\n",
      "Welcome to the AI/ML with Phitron.\n",
      "48\n",
      "\n"
     ]
    }
   ],
   "source": [
    "with open(\"C:/Users/hp/Desktop/Phitron AI_ML/WEEK_02 (Data Structures, Functions, File Handling)/sample.txt\", \"r\") as file:\n",
    "  print(file.tell())\n",
    "  # currently cursor koi ase\n",
    "  print(file.read())\n",
    "  print(file.tell())\n",
    "  ## last index theke pora shuru korsi\n",
    "  print(file.read())"
   ]
  },
  {
   "cell_type": "code",
   "execution_count": 39,
   "id": "fc2a704e-c8d2-4eea-9f91-dee43ea43c7f",
   "metadata": {},
   "outputs": [
    {
     "name": "stdout",
     "output_type": "stream",
     "text": [
      "0\n",
      "Hello\n",
      "5\n",
      "world.\n",
      "Welcome to the AI/ML with Phitron.\n",
      "48\n",
      "0\n",
      "Hello\n"
     ]
    }
   ],
   "source": [
    "#seek\n",
    "with open(\"C:/Users/hp/Desktop/Phitron AI_ML/WEEK_02 (Data Structures, Functions, File Handling)/sample.txt\", \"r\") as file:\n",
    "  print(file.tell())\n",
    "  print(file.read(5))\n",
    "  print(file.tell())\n",
    "\n",
    "  file.seek(6)\n",
    "  print(file.read())\n",
    "  print(file.tell())\n",
    "\n",
    "  file.seek(0)\n",
    "  print(file.tell())\n",
    "  print(file.read(5))"
   ]
  },
  {
   "cell_type": "markdown",
   "id": "09cb7b53-a81b-48ba-aac6-4134887f4642",
   "metadata": {},
   "source": [
    "## Practice 1 :\n",
    "#### Get the text from sample.txt, and count the following\n",
    "#### Number of lines\n",
    "#### Number of words\n",
    "#### Number of characters\n",
    "#### and save it to the counter_of_string.txt file"
   ]
  },
  {
   "cell_type": "code",
   "execution_count": 68,
   "id": "009dcf34-f989-4112-bfdd-0a0c80e5d1dd",
   "metadata": {},
   "outputs": [
    {
     "name": "stdout",
     "output_type": "stream",
     "text": [
      "2\n",
      "8\n",
      "40\n",
      "['Hello world.\\n', 'Welcome to the AI/ML with Phitron.\\n']\n"
     ]
    }
   ],
   "source": [
    "from functools import reduce\n",
    "with open(\"C:/Users/hp/Desktop/Phitron AI_ML/WEEK_02 (Data Structures, Functions, File Handling)/sample.txt\", \"r\") as file:\n",
    "    content = file.readlines()\n",
    "    linecount = len(content)\n",
    "    print(linecount)\n",
    "\n",
    "    words = list(map(lambda str : len(str.split()), content))\n",
    "    wordcount = reduce(lambda x,y : x + y, words)\n",
    "    print(wordcount)\n",
    "\n",
    "    chars = list(map(lambda x : x.replace(\"\\n\",\"\"), content))\n",
    "    chars = list(map(lambda x : x.replace(\" \",\"\"), chars))\n",
    "    charcount = reduce(lambda x,y : len(x)+len(y), chars)\n",
    "    #print(chars)\n",
    "    print(charcount)\n",
    "\n",
    "    print(content)\n",
    "    #charcount = 0\n",
    "    #for i in content:\n",
    "    #    chars = list(filter(lambda x : x != '.' and x != ' ' and x != '\\n', i))\n",
    "    #    #print(chars)\n",
    "    #    charcount += len(chars)\n",
    "    #print(charcount)\n",
    "    \n",
    "with open(\"C:/Users/hp/Desktop/Phitron AI_ML/WEEK_02 (Data Structures, Functions, File Handling)/problem1.txt\", \"w\") as file:\n",
    "    file.write(f\"Total lines : {linecount}\\nTotal words : {wordcount}\\nTotal characters : {charcount}\\n\")\n",
    "    file.write(f\"Please check sample.txt to verify\")"
   ]
  },
  {
   "cell_type": "markdown",
   "id": "8b028310-e333-4597-aff8-37fc1b3d8a96",
   "metadata": {},
   "source": [
    "## Practice 2:\n",
    "#### Write then read with one open"
   ]
  },
  {
   "cell_type": "code",
   "execution_count": 74,
   "id": "419cfb77-bc9f-4da6-b24d-4651539f8eeb",
   "metadata": {},
   "outputs": [
    {
     "name": "stdout",
     "output_type": "stream",
     "text": [
      "16\n",
      "Hola, como esta?\n",
      "Hola, como esta\n"
     ]
    }
   ],
   "source": [
    "with open(\"C:/Users/hp/Desktop/Phitron AI_ML/WEEK_02 (Data Structures, Functions, File Handling)/problem2.txt\", \"w+\") as file:\n",
    "    file.write(\"Hola, como esta?\")\n",
    "\n",
    "    print(file.tell())\n",
    "    file.seek(0)\n",
    "    print(file.read())\n",
    "\n",
    "    file.truncate(15)\n",
    "    file.seek(0)\n",
    "    print(file.read())"
   ]
  },
  {
   "cell_type": "markdown",
   "id": "63c6e296-6462-4005-a309-e231a7dd38a7",
   "metadata": {},
   "source": [
    "### EXCEPTION HANDLING"
   ]
  },
  {
   "cell_type": "code",
   "execution_count": 75,
   "id": "15e6d63d-7d6f-42f8-b66c-4668523552a5",
   "metadata": {},
   "outputs": [],
   "source": [
    "#ArithmeticError\t             Raised when an error occurs in numeric calculations\n",
    "#AssertionError\t                 Raised when an assert statement fails\n",
    "#AttributeError\t                 Raised when attribute reference or assignment fails\n",
    "#Exception\t                     Base class for all exceptions\n",
    "#EOFError\t                     Raised when the input() method hits an \"end of file\" condition (EOF)\n",
    "#FloatingPointError\t             Raised when a floating-point calculation fails\n",
    "#GeneratorExit\t                 Raised when a generator is closed (with the close() method)\n",
    "#ImportError\t                 Raised when an imported module does not exist\n",
    "#IndentationError\t             Raised when indentation is not correct\n",
    "#IndexError\t                     Raised when an index of a sequence does not exist\n",
    "#KeyError\t                     Raised when a key does not exist in a dictionary\n",
    "#KeyboardInterrupt\t             Raised when the user presses Ctrl+c, Ctrl+z, or Delete\n",
    "#LookupError\t                 Raised when errors raised can't be found\n",
    "#MemoryError\t                 Raised when a program runs out of memory\n",
    "#NameError\t                     Raised when a variable does not exist\n",
    "#NotImplementedError\t         Raised when an abstract method requires an inherited class to override the method\n",
    "#OSError\t                     Raised when a system-related operation causes an error\n",
    "#OverflowError\t                 Raised when the result of a numeric calculation is too large\n",
    "#ReferenceError\t                 Raised when a weak reference object does not exist\n",
    "#RuntimeError\t                 Raised when an error occurs that does not belong to any specific exceptions\n",
    "#StopIteration\t                 Raised when the next() method of an iterator has no further values\n",
    "#SyntaxError\t                 Raised when a syntax error occurs\n",
    "#TabError\t                     Raised when indentation consists of tabs or spaces\n",
    "#SystemError\t                 Raised when a system error occurs\n",
    "#SystemExit\t                     Raised when the sys.exit() function is called\n",
    "#TypeError\t                     Raised when two different types are combined\n",
    "#UnboundLocalError\t             Raised when a local variable is referenced before assignment\n",
    "#UnicodeError\t                 Raised when a unicode problem occurs\n",
    "#UnicodeEncodeError\t             Raised when a unicode encoding problem occurs\n",
    "#UnicodeDecodeError\t             Raised when a unicode decoding problem occurs\n",
    "#UnicodeTranslateError\t         Raised when a unicode translation problem occurs\n",
    "#ValueError\t                     Raised when there is a wrong value in a specified data type\n",
    "#ZeroDivisionError\t             Raised when the second operator in a division is zero"
   ]
  },
  {
   "cell_type": "code",
   "execution_count": 78,
   "id": "8ed1da44-e2e5-4272-a98a-34bd37a1918f",
   "metadata": {},
   "outputs": [
    {
     "name": "stdin",
     "output_type": "stream",
     "text": [
      " 5\n"
     ]
    },
    {
     "name": "stdout",
     "output_type": "stream",
     "text": [
      "hello world\n"
     ]
    }
   ],
   "source": [
    "n = int(input())\n",
    "try:\n",
    "  a = 10/n\n",
    "except ZeroDivisionError:\n",
    "  print(\"you cant divide a number by 0\")\n",
    "\n",
    "print(\"hello world\")"
   ]
  },
  {
   "cell_type": "code",
   "execution_count": 79,
   "id": "c6bd5f0f-860a-4c40-9b36-0ff530abb915",
   "metadata": {},
   "outputs": [
    {
     "name": "stdout",
     "output_type": "stream",
     "text": [
      "name 'y' is not defined\n",
      "hello world\n"
     ]
    }
   ],
   "source": [
    "try:\n",
    "  x = y\n",
    "except ZeroDivisionError:\n",
    "  print(\"you cant divide a number by 0\")\n",
    "except NameError as e:\n",
    "  print(e)\n",
    "print(\"hello world\")"
   ]
  },
  {
   "cell_type": "code",
   "execution_count": 82,
   "id": "759a8182-031f-4cfb-bec3-d444611fdb2f",
   "metadata": {},
   "outputs": [
    {
     "name": "stdout",
     "output_type": "stream",
     "text": [
      "picoCTF(1_Am_M3nAc3)\n",
      "Gpu is stopped\n"
     ]
    }
   ],
   "source": [
    "# model train\n",
    "try:\n",
    "  file = open(\"C:/Users/hp/Desktop/Phitron AI_ML/WEEK_02 (Data Structures, Functions, File Handling)/data1.txt\",\"r\")\n",
    "except Exception as e:\n",
    "  print(e)\n",
    "else:\n",
    "  # model train\n",
    "  print(file.read())\n",
    "finally:\n",
    "  print(\"Gpu is stopped\")"
   ]
  },
  {
   "cell_type": "code",
   "execution_count": null,
   "id": "978c95c0-ebe0-4d71-a2e2-111fa75f5da5",
   "metadata": {},
   "outputs": [],
   "source": []
  }
 ],
 "metadata": {
  "kernelspec": {
   "display_name": "Python [conda env:base] *",
   "language": "python",
   "name": "conda-base-py"
  },
  "language_info": {
   "codemirror_mode": {
    "name": "ipython",
    "version": 3
   },
   "file_extension": ".py",
   "mimetype": "text/x-python",
   "name": "python",
   "nbconvert_exporter": "python",
   "pygments_lexer": "ipython3",
   "version": "3.13.5"
  }
 },
 "nbformat": 4,
 "nbformat_minor": 5
}
