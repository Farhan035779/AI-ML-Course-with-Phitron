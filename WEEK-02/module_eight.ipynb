{
 "cells": [
  {
   "cell_type": "markdown",
   "id": "929031c7-3c2b-4d9c-b11e-f2832d1685a0",
   "metadata": {},
   "source": [
    "### OOP"
   ]
  },
  {
   "cell_type": "code",
   "execution_count": 17,
   "id": "8501892d-b33a-4cd7-bbb7-d0cbc387e48a",
   "metadata": {},
   "outputs": [],
   "source": [
    "class Phone:\n",
    "    category = \"Electronic Device\"\n",
    "\n",
    "    #constructor\n",
    "    def __init__(self, model, battery, camera, battery_percent = 100):\n",
    "        self.model = model\n",
    "        self.battery = battery\n",
    "        self.camera = camera\n",
    "        self.battery_percent = battery_percent\n",
    "\n",
    "    #methods\n",
    "    def charge(self, hour):\n",
    "        print(f\"Charge completed by {hour}\")\n",
    "\n",
    "    def capture(self, photo):\n",
    "        if (self.battery) < 20:\n",
    "            print(\"Can't take photos due to low charge\")\n",
    "        else:\n",
    "            self.battery_percent -= round(photo/3)\n",
    "            print(f\"Photo captured on {self.model}\")"
   ]
  },
  {
   "cell_type": "code",
   "execution_count": 18,
   "id": "a4df5532-a10e-460b-95df-873a83e04f63",
   "metadata": {},
   "outputs": [
    {
     "name": "stdout",
     "output_type": "stream",
     "text": [
      "Photo captured on Iphone17\n",
      "97\n",
      "100\n"
     ]
    }
   ],
   "source": [
    "## creating object\n",
    "apple = Phone(\"Iphone17\", 3000, 40)\n",
    "blueberry = Phone(\"B-17\", 4000, 30)\n",
    "motorola = Phone(\"M-17\", 3500, 35)\n",
    "apple.capture(10)\n",
    "print(apple.battery_percent)\n",
    "print(motorola.battery_percent)"
   ]
  },
  {
   "cell_type": "markdown",
   "id": "380fdfde-c3dc-4039-901f-bf56cc311178",
   "metadata": {},
   "source": [
    "### INHERITANCE"
   ]
  },
  {
   "cell_type": "code",
   "execution_count": 19,
   "id": "e049ff06-768c-4f32-89e1-3b64fc6eb320",
   "metadata": {},
   "outputs": [],
   "source": [
    "# Used for code reusability\n",
    "# Two types: Single & Multiple\n",
    "\n",
    "class Phone: # base/parent class\n",
    "    category = \"Electronic Device\"\n",
    "\n",
    "    def __init__(self, model, battery, camera, battery_percent = 100):\n",
    "        self.model = model\n",
    "        self.battery = battery\n",
    "        self.camera = camera\n",
    "        self.battery_percent = battery_percent\n",
    "\n",
    "    def charge(self, hour):\n",
    "        print(f\"Charge completed by {hour}\")\n",
    "\n",
    "    def capture(self, photo):\n",
    "        if (self.battery) < 20:\n",
    "            print(\"Can't take photos due to low charge\")\n",
    "        else:\n",
    "            self.battery_percent -= round(photo/3)\n",
    "            print(f\"Photo captured on {self.model}\")\n",
    "\n",
    "class Cooling_Mechanism:\n",
    "    def __init__(self,cooling_method):\n",
    "        self.cooling_method = cooling_method\n",
    "\n",
    "    def cooling_on(self):\n",
    "        print(f\"The system is being cooled by {self.cooling_method}\")"
   ]
  },
  {
   "cell_type": "code",
   "execution_count": 28,
   "id": "177d9dbc-bfd5-4b68-b936-49d8b8965a3e",
   "metadata": {},
   "outputs": [],
   "source": [
    "# Single Inheritance\n",
    "class Smartphone(Phone):\n",
    "    def __init__(self, model, battery, camera, processor):\n",
    "        super().__init__(model, battery, camera) #super doesn't require to include self, applicable for single inheritance\n",
    "        self.processor = processor\n",
    "\n",
    "    def charge(self, hour):\n",
    "        print(\"Super-fast charging engaged\")\n",
    "        super().charge(hour)"
   ]
  },
  {
   "cell_type": "code",
   "execution_count": 29,
   "id": "2ddd9bd4-d2d1-43eb-a132-1c12769ad615",
   "metadata": {},
   "outputs": [
    {
     "name": "stdout",
     "output_type": "stream",
     "text": [
      "X\n",
      "SnapDragon\n",
      "Super-fast charging engaged\n",
      "Charge completed by 0.5\n"
     ]
    }
   ],
   "source": [
    "pro = Smartphone(\"X\", 5000, 100, \"SnapDragon\")\n",
    "print(pro.model)\n",
    "print(pro.processor)\n",
    "pro.charge(0.5)"
   ]
  },
  {
   "cell_type": "code",
   "execution_count": 30,
   "id": "9e67d332-b1e9-4abd-abe1-84b4e6fb1785",
   "metadata": {},
   "outputs": [],
   "source": [
    "# Multiple Inheritance\n",
    "class Smartphone_Cooler(Smartphone, Cooling_Mechanism):\n",
    "    def __init__(self, model, battery, camera, processor, cooling_method): #can't use super here due to multiple classes\n",
    "        Smartphone.__init__(self, model, battery, camera, processor)       #self needed to call constructor of separate classes\n",
    "        Cooling_Mechanism.__init__(self, cooling_method)"
   ]
  },
  {
   "cell_type": "code",
   "execution_count": 31,
   "id": "39dc37ab-949b-4f1d-a2b0-3834f3960845",
   "metadata": {},
   "outputs": [
    {
     "name": "stdout",
     "output_type": "stream",
     "text": [
      "Y\n",
      "SnapDragon\n",
      "5000\n",
      "Nitrogen\n",
      "The system is being cooled by Nitrogen\n",
      "Super-fast charging engaged\n",
      "Charge completed by 1\n"
     ]
    }
   ],
   "source": [
    "pro_cool = Smartphone_Cooler(\"Y\", 5000, 100, \"SnapDragon\", \"Nitrogen\")\n",
    "print(pro_cool.model) #Phone class theke\n",
    "print(pro_cool.processor) # SmartPhone class theke\n",
    "print(pro_cool.battery) # Phone class theke\n",
    "print(pro_cool.cooling_method) # Cooling_Mechanism class theke\n",
    "pro_cool.cooling_on() # Cooling_Mechanism class er method\n",
    "pro_cool.charge(1) # SmartPhone er modified charge jeta Phone class theke inherited"
   ]
  },
  {
   "cell_type": "markdown",
   "id": "bea163b0-b16c-4910-ada5-2a736e19f06a",
   "metadata": {},
   "source": [
    "### POLYMORPHISM"
   ]
  },
  {
   "cell_type": "code",
   "execution_count": 35,
   "id": "6f152fa9-c6cf-4378-9311-762ee1c8ba9b",
   "metadata": {},
   "outputs": [],
   "source": [
    "# Overriding of methods in classes\n",
    "class Camera:\n",
    "    def __init__(self , name):\n",
    "        self.name = name\n",
    "\n",
    "    def capture(self):\n",
    "        print(\"a photo is captured\")"
   ]
  },
  {
   "cell_type": "code",
   "execution_count": 36,
   "id": "c84dcfc2-e6fd-49ef-af26-ed0c737053e5",
   "metadata": {},
   "outputs": [],
   "source": [
    "class Smart_Phone(Camera):\n",
    "    def __init__(self,name,resolution):\n",
    "        super().__init__(name)\n",
    "        self.resolution = resolution\n",
    "\n",
    "    #method overriding\n",
    "    def capture(self):\n",
    "        print(\"Photo is captured by a Phone\")\n",
    "\n",
    "\n",
    "class DSLR(Camera):\n",
    "    def __init__(self,name,resolution):\n",
    "        super().__init__(name)\n",
    "        self.resolution = resolution\n",
    "\n",
    "    def capture(self):\n",
    "        print(\"Photo is captured  by DSLR\")\n",
    "\n",
    "class Drone(Camera):\n",
    "    def __init__(self,name,resolution):\n",
    "        super().__init__(name)\n",
    "        self.resolution = resolution\n",
    "\n",
    "    def capture(self):\n",
    "        print(\"Photo is captured by Drone\")"
   ]
  },
  {
   "cell_type": "code",
   "execution_count": 37,
   "id": "dede6748-cf53-46da-9c5b-7afa44562ec4",
   "metadata": {},
   "outputs": [
    {
     "name": "stdout",
     "output_type": "stream",
     "text": [
      "Photo is captured by a Phone\n",
      "Photo is captured  by DSLR\n",
      "Photo is captured by Drone\n"
     ]
    }
   ],
   "source": [
    "phone = Smart_Phone(\"Phone\",30)\n",
    "dslr = DSLR (\"DSLR\",200)\n",
    "drone = Drone(\"Drone\",150)\n",
    "\n",
    "phone.capture()\n",
    "dslr.capture()\n",
    "drone.capture()"
   ]
  },
  {
   "cell_type": "markdown",
   "id": "f5e4beaa-10af-4211-aae4-782ed9868184",
   "metadata": {},
   "source": [
    "### ENCAPSULATION"
   ]
  },
  {
   "cell_type": "code",
   "execution_count": 38,
   "id": "bdd71bcf-2463-41a6-9064-adc75f4787db",
   "metadata": {},
   "outputs": [],
   "source": [
    "# Restricting the access of attributes\n",
    "\n",
    "# design\n",
    "class Mobile:\n",
    "    def __init__(self,name,model,imei):\n",
    "        self.__name = name\n",
    "        self.__model = model\n",
    "        self.__imei = imei # private\n",
    "\n",
    "    def charge(self):\n",
    "        print(\"phone is charging\")\n",
    "\n",
    "# method imei ta paite pari\n",
    "    def imei_getter(self):\n",
    "        return self.__imei\n",
    "    \n",
    "    def model_getter(self):\n",
    "        return self.__model\n",
    "\n",
    "    def name_getter(self):\n",
    "        return self.__name\n",
    "\n",
    "    def name_setter(self,name):\n",
    "        self.__name = name"
   ]
  },
  {
   "cell_type": "code",
   "execution_count": 39,
   "id": "5ffcf2ac-2f65-48f5-ba15-bf9d1559ef82",
   "metadata": {},
   "outputs": [
    {
     "name": "stdout",
     "output_type": "stream",
     "text": [
      "Phone\n",
      "Phitron\n"
     ]
    }
   ],
   "source": [
    "#outside world ( user )\n",
    "\n",
    "# registration\n",
    "iphone = Mobile(\"Phone\",\"17\",\"1xkaf1\")\n",
    "print(iphone.name_getter())\n",
    "\n",
    "iphone.name_setter(\"Phitron\")\n",
    "print(iphone.name_getter())"
   ]
  },
  {
   "cell_type": "markdown",
   "id": "092c0cde-f07c-4b62-851b-07dd9fcae77c",
   "metadata": {},
   "source": [
    "### ABSTRACTION"
   ]
  },
  {
   "cell_type": "code",
   "execution_count": 41,
   "id": "6c6c2e71-c574-4713-802f-3b45d63a2021",
   "metadata": {},
   "outputs": [],
   "source": [
    "# Don't know how the function/method works internally, we use it\n",
    "# If a class inherits an abstract class, then the abstract methods must be implemented\n",
    "\n",
    "from abc import ABC, abstractmethod\n",
    "\n",
    "class Telephone(ABC):\n",
    "    @abstractmethod\n",
    "    def make_call(self):\n",
    "        pass\n",
    "\n",
    "class Sphone(Telephone):\n",
    "    def make_call(self): #implementation\n",
    "        print(\"Making a call using SPhone\")\n",
    "\n",
    "class Iphone(Telephone):\n",
    "    def make_call(self): #implementation\n",
    "        print(\"Making a call using IPhone\")"
   ]
  },
  {
   "cell_type": "code",
   "execution_count": 42,
   "id": "23a6cc3e-29c0-4bc9-8067-48f7defcc67a",
   "metadata": {},
   "outputs": [
    {
     "name": "stdout",
     "output_type": "stream",
     "text": [
      "Making a call using IPhone\n"
     ]
    }
   ],
   "source": [
    "ip = Iphone()\n",
    "ip.make_call()"
   ]
  },
  {
   "cell_type": "code",
   "execution_count": null,
   "id": "d9dc1199-2270-4a87-a19b-47fad4eacf13",
   "metadata": {},
   "outputs": [],
   "source": []
  }
 ],
 "metadata": {
  "kernelspec": {
   "display_name": "Python [conda env:base] *",
   "language": "python",
   "name": "conda-base-py"
  },
  "language_info": {
   "codemirror_mode": {
    "name": "ipython",
    "version": 3
   },
   "file_extension": ".py",
   "mimetype": "text/x-python",
   "name": "python",
   "nbconvert_exporter": "python",
   "pygments_lexer": "ipython3",
   "version": "3.13.5"
  }
 },
 "nbformat": 4,
 "nbformat_minor": 5
}
