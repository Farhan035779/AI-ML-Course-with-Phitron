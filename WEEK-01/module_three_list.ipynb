{
 "cells": [
  {
   "cell_type": "markdown",
   "id": "87dc0385-11b6-43cb-bdd1-a5cc53f7661e",
   "metadata": {},
   "source": [
    "### LISTS"
   ]
  },
  {
   "cell_type": "code",
   "execution_count": 2,
   "id": "b6d6ac19-65a8-4947-845a-858cce018643",
   "metadata": {},
   "outputs": [
    {
     "name": "stdout",
     "output_type": "stream",
     "text": [
      "<class 'int'> <class 'float'> <class 'str'>\n",
      "20\n"
     ]
    }
   ],
   "source": [
    "## declaration \n",
    "numbers = [100, 20, 30, 40, 50, 100, 100] # int \n",
    "float_numbers = [10.20, 3.15, 2.4, 2.7, 3.5] # float \n",
    "fruits = ['apple', 'orange', 'lichi'] # string \n",
    "mix = [10, 10.20, 'apple'] # mixed list\n",
    "print(type(mix[0]), type(mix[1]), type(mix[2]))\n",
    "                        \n",
    "list_er_moddhe_list = [ [100,20,30] , [14,12,31] , [13,12,12] ]\n",
    "print(list_er_moddhe_list[0][1])"
   ]
  },
  {
   "cell_type": "code",
   "execution_count": 3,
   "id": "de7f2da5-ecd6-4f25-b593-8e50eaf6252e",
   "metadata": {},
   "outputs": [
    {
     "name": "stdout",
     "output_type": "stream",
     "text": [
      "[100, 20, 30]\n",
      "[100, 20, 30, 40, 50, 100, 100, 80]\n",
      "[45, 100, 20, 30, 40, 50, 100, 100, 80]\n",
      "[45, 100, 20, 30, 40, 50, 100, 100]\n",
      "[45, 20, 30, 40, 50, 100, 100]\n"
     ]
    }
   ],
   "source": [
    "## modification \n",
    "\n",
    "new_list = numbers[0:3]\n",
    "\n",
    "print(new_list)\n",
    "\n",
    "## adding an item \n",
    "numbers.append(80)\n",
    "print(numbers)\n",
    "\n",
    "\n",
    "## insertion at any position \n",
    "numbers.insert(0,45)\n",
    "print(numbers)\n",
    "\n",
    "\n",
    "## deleting the last value \n",
    "numbers.pop()\n",
    "\n",
    "print(numbers)\n",
    "\n",
    "## deleting a single value \n",
    "numbers.remove(100)\n",
    "\n",
    "print(numbers)\n",
    "\n",
    "numbers.sort()\n",
    "print(numbers)\n",
    "\n",
    "numbers.reverse()\n",
    "print(numbers)"
   ]
  },
  {
   "cell_type": "markdown",
   "id": "884be1b2-7ed9-48fa-af6f-7a8222712d37",
   "metadata": {},
   "source": [
    "### LISTS AS STACK AND QUEUE"
   ]
  },
  {
   "cell_type": "code",
   "execution_count": 5,
   "id": "1252c1c1-900c-4cbb-ba1e-8cb4c0c6a56f",
   "metadata": {},
   "outputs": [
    {
     "name": "stdout",
     "output_type": "stream",
     "text": [
      "top element : 5\n",
      "5\n",
      "top element : 4\n"
     ]
    }
   ],
   "source": [
    "#Stack\n",
    "stack =[]\n",
    "\n",
    "# stack e push\n",
    "stack.append(1)\n",
    "stack.append(2)\n",
    "stack.append(3)\n",
    "stack.append(4)\n",
    "stack.append(5)\n",
    "\n",
    "print(f\"top element : {stack[-1]}\")\n",
    "\n",
    "# removing the top element \n",
    "print(stack.pop())\n",
    "\n",
    "# top element \n",
    "print(f\"top element : {stack[-1]}\")"
   ]
  },
  {
   "cell_type": "code",
   "execution_count": 6,
   "id": "a89db3b1-fc49-4398-b408-4042935b77ce",
   "metadata": {},
   "outputs": [
    {
     "name": "stdout",
     "output_type": "stream",
     "text": [
      "1\n",
      "front e 2\n",
      "2\n",
      "front e 3\n"
     ]
    }
   ],
   "source": [
    "#Queue\n",
    "queue = []\n",
    "\n",
    "# insertion\n",
    "queue.append(1)\n",
    "queue.append(2)\n",
    "queue.append(3)\n",
    "queue.append(4)\n",
    "queue.append(5)\n",
    "\n",
    "#remove \n",
    "print(queue.pop(0))\n",
    "\n",
    "# accessing the front element \n",
    "print(f\"front e {queue[0]}\")\n",
    "\n",
    "print(queue.pop(0))\n",
    "print(f\"front e {queue[0]}\")"
   ]
  },
  {
   "cell_type": "markdown",
   "id": "c7340a3f-469d-4337-a620-a71267890c05",
   "metadata": {},
   "source": [
    "### LIST COMPREHENSION"
   ]
  },
  {
   "cell_type": "code",
   "execution_count": 8,
   "id": "71466762-61fa-42c8-8d0b-d78ed67e6d99",
   "metadata": {},
   "outputs": [
    {
     "name": "stdout",
     "output_type": "stream",
     "text": [
      "[11, 13, 15, 17, 19, 21, 23, 25, 27, 29, 31, 33, 35, 37, 39, 41, 43, 45, 47, 49, 51, 53, 55, 57, 59, 61, 63, 65, 67, 69, 71, 73, 75, 77, 79, 81, 83, 85, 87, 89, 91, 93, 95, 97, 99, 101, 103, 105, 107, 109]\n",
      "['apple', 'orange', 'lichi']\n"
     ]
    }
   ],
   "source": [
    "random_list = [x+10 for x in range(1,101) if x%2!=0]\n",
    "\n",
    "print(random_list)\n",
    "\n",
    "fruits = ['APplE', 'OraNgE', 'liCHi']\n",
    "\n",
    "upper_fruits=[fruit.lower() for fruit in fruits]\n",
    "\n",
    "print(upper_fruits)"
   ]
  },
  {
   "cell_type": "code",
   "execution_count": 11,
   "id": "0e792cca-3548-4310-85f5-ee5dcdef0cc8",
   "metadata": {},
   "outputs": [
    {
     "name": "stdout",
     "output_type": "stream",
     "text": [
      "2\n",
      "['d', 'b']\n"
     ]
    }
   ],
   "source": [
    "test = \"banana bandana\"\n",
    "print(test.count(\"ana\"))\n",
    "\n",
    "letters = ['a', 'b', 'c', 'd', 'e']\n",
    "print(letters[1:4][::-2])"
   ]
  },
  {
   "cell_type": "code",
   "execution_count": null,
   "id": "fc9b036b-b553-4eb2-874a-f2885ebe2b3e",
   "metadata": {},
   "outputs": [],
   "source": []
  }
 ],
 "metadata": {
  "kernelspec": {
   "display_name": "Python [conda env:base] *",
   "language": "python",
   "name": "conda-base-py"
  },
  "language_info": {
   "codemirror_mode": {
    "name": "ipython",
    "version": 3
   },
   "file_extension": ".py",
   "mimetype": "text/x-python",
   "name": "python",
   "nbconvert_exporter": "python",
   "pygments_lexer": "ipython3",
   "version": "3.13.5"
  }
 },
 "nbformat": 4,
 "nbformat_minor": 5
}
