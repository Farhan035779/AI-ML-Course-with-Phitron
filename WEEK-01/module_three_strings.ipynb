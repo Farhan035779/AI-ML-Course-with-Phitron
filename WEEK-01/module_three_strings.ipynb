{
 "cells": [
  {
   "cell_type": "markdown",
   "id": "7d2513b8-bc8f-4444-852b-bf1e3e232bd1",
   "metadata": {},
   "source": [
    "### STRING METHODS"
   ]
  },
  {
   "cell_type": "code",
   "execution_count": 1,
   "id": "1ca96187-9e32-4d3b-b717-eb15cbfe61e0",
   "metadata": {},
   "outputs": [],
   "source": [
    "#capitalize()\t                     Converts the first character to upper case\n",
    "#casefold()\t                         Converts string into lower case\n",
    "#center()\t                         Returns a centered string\n",
    "#count()\t                         Returns the number of times a specified value occurs in a string\n",
    "#encode()\t                         Returns an encoded version of the string\n",
    "#endswith()\t                         Returns true if the string ends with the specified value\n",
    "#expandtabs()\t                     Sets the tab size of the string\n",
    "#find()\t                             Searches the string for a specified value and returns the position of where it was found\n",
    "#format()\t                         Formats specified values in a string\n",
    "#format_map()\t                     Formats specified values from a dictionary in a string\n",
    "#index()\t                         Searches the string for a specified value and returns the position where it was found\n",
    "#isalnum()\t                         Returns True if all characters in the string are alphanumeric\n",
    "#isalpha()\t                         Returns True if all characters in the string are in the alphabet\n",
    "#isascii()\t                         Returns True if all characters in the string are ASCII characters\n",
    "#isdecimal()\t                     Returns True if all characters in the string are decimals\n",
    "#isdigit()\t                         Returns True if all characters in the string are digits\n",
    "#isidentifier()\t                     Returns True if the string is an identifier\n",
    "#islower()\t                         Returns True if all characters in the string are lower case\n",
    "#isnumeric()\t                     Returns True if all characters in the string are numeric\n",
    "#isprintable()\t                     Returns True if all characters in the string are printable\n",
    "#isspace()\t                         Returns True if all characters in the string are whitespaces\n",
    "#istitle()\t                         Returns True if the string follows the rules of a title\n",
    "#isupper()\t                         Returns True if all characters in the string are upper case\n",
    "#join()\t                             Converts the elements of an iterable into a string\n",
    "#ljust()\t                         Returns a left-justified version of the string\n",
    "#lower()\t                         Converts a string into lower case\n",
    "#lstrip()\t                         Returns a left trim version of the string\n",
    "#maketrans()\t                     Returns a translation table to be used in translations\n",
    "#partition()\t                     Returns a tuple where the string is parted into three parts\n",
    "#replace()\t                         Returns a string where a specified value is replaced with another value\n",
    "#rfind()\t                         Searches the string for a specified value and returns the last position where it was found\n",
    "#rindex()\t                         Searches the string for a specified value and returns the last position of where it was found\n",
    "#rjust()\t                         Returns a right-justified version of the string\n",
    "#rpartition()\t                     Returns a tuple where the string is parted into three parts\n",
    "#rsplit()\t                         Splits the string at the specified separator, and returns a list\n",
    "#rstrip()\t                         Returns a right-trimmed version of the string\n",
    "#split()\t                         Splits the string at the specified separator, and returns a list\n",
    "#splitlines()\t                     Splits the string at line breaks and returns a list\n",
    "#startswith()\t                     Returns true if the string starts with the specified value\n",
    "#trip()\t                             Returns a trimmed version of the string\n",
    "#swapcase()\t                         Swaps cases, lower case becomes upper case and vice versa\n",
    "#title()\t                         Converts the first character of each word to upper case\n",
    "#translate()\t                     Returns a translated string\n",
    "#upper()\t                         Converts a string into upper case\n",
    "#zfill()\t                         Fills the string with a specified number of 0 values at the beginning"
   ]
  },
  {
   "cell_type": "code",
   "execution_count": 2,
   "id": "6588e65f-e6ea-48ad-90da-bfb3ade0786a",
   "metadata": {},
   "outputs": [
    {
     "name": "stdout",
     "output_type": "stream",
     "text": [
      "52\n",
      "True\n",
      "Welcome to Phitron AI/ML Course , Phitron AI/ML , Hello AI/ML\n"
     ]
    }
   ],
   "source": [
    "string  = \"Welcome to Phitron ML Course , Phitron ML , Hello ML\" \n",
    "\n",
    "processed_string = string.lower()\n",
    "\n",
    "# length \n",
    "print(len(string))\n",
    "\n",
    "# word ase kina -> bool\n",
    "print(\"phitron\" in processed_string)\n",
    "\n",
    "# shurur kon index theke substring ta shuru hoise \n",
    "\n",
    "shuru_index = processed_string.find(\"phitron\")\n",
    "\n",
    "# shesher dike kon index theke substring ta shuru hoise \n",
    "shesh_index = processed_string.rfind(\"phitron\")\n",
    "\n",
    "## Substring koibar ase \n",
    "\n",
    "count = processed_string.count(\"phitron\")\n",
    "\n",
    "## replace a substring \n",
    "\n",
    "processed_string = string.replace(\"ML\", \"AI/ML\")\n",
    "\n",
    "print(processed_string)"
   ]
  },
  {
   "cell_type": "markdown",
   "id": "b4b2a242-a418-48f0-9bb9-9447de0d0a38",
   "metadata": {},
   "source": [
    "### STRING INDEXIXNG AND SLICING"
   ]
  },
  {
   "cell_type": "code",
   "execution_count": 4,
   "id": "702af0c6-a1be-4faa-a3aa-789cf287f063",
   "metadata": {},
   "outputs": [
    {
     "name": "stdout",
     "output_type": "stream",
     "text": [
      "what is your name?\n",
      "<class 'str'>\n",
      "tell me about yourself ?\n",
      "what are the issues you've been facing while learning to code ?\n",
      "How are you tackling them ?\n",
      "\n",
      "tell me about yourself ?\n",
      "? flesruoy tuoba em llet\n"
     ]
    }
   ],
   "source": [
    "#single line string \n",
    "prompt = \"what is your name?\" \n",
    "\n",
    "print(prompt)\n",
    "print(type(prompt))\n",
    "\n",
    "# multi-line string\n",
    "message = \"\"\"tell me about yourself ?\n",
    "what are the issues you've been facing while learning to code ?\n",
    "How are you tackling them ?\n",
    "\"\"\"\n",
    "\n",
    "print(message)\n",
    "\n",
    "first_message = message[0:24]\n",
    "\n",
    "print(first_message)\n",
    "\n",
    "new_first_message = first_message[::-1]\n",
    "\n",
    "print(new_first_message)"
   ]
  },
  {
   "cell_type": "markdown",
   "id": "e053c1e6-6757-4225-b461-82b7ab5f228e",
   "metadata": {},
   "source": [
    "### SPLITTING, JOINING, FORMATTING"
   ]
  },
  {
   "cell_type": "code",
   "execution_count": 6,
   "id": "e6d908af-0e85-46a1-b4d9-3ad5f0845b1f",
   "metadata": {},
   "outputs": [
    {
     "name": "stdout",
     "output_type": "stream",
     "text": [
      "['what', 'is', 'Phitron', '?']\n",
      "what-is-Phitron-?\n"
     ]
    }
   ],
   "source": [
    "prompt = \"what is Phitron ?\"\n",
    "\n",
    "tokens = prompt.split()\n",
    "\n",
    "print(tokens)\n",
    "\n",
    "sentence = \"-\".join(tokens)\n",
    "\n",
    "print(sentence)"
   ]
  },
  {
   "cell_type": "code",
   "execution_count": 11,
   "id": "131d47e1-82d5-4ed3-8cbe-2e888f5f8053",
   "metadata": {},
   "outputs": [
    {
     "name": "stdout",
     "output_type": "stream",
     "text": [
      "His name is Adil. He is 23 years old. He is 5.11 feet tall.\n",
      "<class 'str'>\n"
     ]
    }
   ],
   "source": [
    "name = \"Adil\" \n",
    "age = 23 \n",
    "height = 5.1123445\n",
    "\n",
    "info = f\"His name is {name}. He is {age} years old. He is {height:.3} feet tall.\"\n",
    "print(info)\n",
    "print(type(info))"
   ]
  },
  {
   "cell_type": "code",
   "execution_count": null,
   "id": "119debd5-f40d-4dbf-b4ec-aefe083cd87e",
   "metadata": {},
   "outputs": [],
   "source": []
  }
 ],
 "metadata": {
  "kernelspec": {
   "display_name": "Python [conda env:base] *",
   "language": "python",
   "name": "conda-base-py"
  },
  "language_info": {
   "codemirror_mode": {
    "name": "ipython",
    "version": 3
   },
   "file_extension": ".py",
   "mimetype": "text/x-python",
   "name": "python",
   "nbconvert_exporter": "python",
   "pygments_lexer": "ipython3",
   "version": "3.13.5"
  }
 },
 "nbformat": 4,
 "nbformat_minor": 5
}
