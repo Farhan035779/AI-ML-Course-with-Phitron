{
 "cells": [
  {
   "cell_type": "markdown",
   "id": "eb4c5545-8473-409e-b0a6-3fa958a68831",
   "metadata": {},
   "source": [
    "### TUPLE"
   ]
  },
  {
   "cell_type": "code",
   "execution_count": 23,
   "id": "61af0d8a-b020-4f9c-ad09-1def9976fd9e",
   "metadata": {},
   "outputs": [
    {
     "name": "stdout",
     "output_type": "stream",
     "text": [
      "<class 'tuple'> (10, 20, 30)\n"
     ]
    }
   ],
   "source": [
    "# declaration \n",
    "tup = (10,20,30,40) \n",
    "float_tup = (10.5,10.2)\n",
    "mixed_tup = (10, 10.5, \"str\", True) \n",
    "lst = [10,20,30]\n",
    "tup1 = tuple(lst)\n",
    "print(type(tup1), tup1)"
   ]
  },
  {
   "cell_type": "code",
   "execution_count": 3,
   "id": "e009f21c-9bc4-4419-841d-92ca4ce5de86",
   "metadata": {},
   "outputs": [
    {
     "name": "stdout",
     "output_type": "stream",
     "text": [
      "10.5\n",
      "(10, 20, 30)\n"
     ]
    }
   ],
   "source": [
    "# access \n",
    "tup = (10, 20, 30, 10.5, \"str\", False)\n",
    "\n",
    "#index \n",
    "print(tup[3]) \n",
    "\n",
    "# slicing \n",
    "new_tup = tup[0:3]\n",
    "print(new_tup)"
   ]
  },
  {
   "cell_type": "code",
   "execution_count": 4,
   "id": "2181224e-608c-4a4b-8882-f5c59388bcf8",
   "metadata": {},
   "outputs": [
    {
     "name": "stdout",
     "output_type": "stream",
     "text": [
      "[10, 100, 30, 40, 60]\n"
     ]
    },
    {
     "ename": "TypeError",
     "evalue": "'tuple' object does not support item assignment",
     "output_type": "error",
     "traceback": [
      "\u001b[1;31m---------------------------------------------------------------------------\u001b[0m",
      "\u001b[1;31mTypeError\u001b[0m                                 Traceback (most recent call last)",
      "Cell \u001b[1;32mIn[4], line 9\u001b[0m\n\u001b[0;32m      7\u001b[0m \u001b[38;5;66;03m# immutable\u001b[39;00m\n\u001b[0;32m      8\u001b[0m tup\u001b[38;5;241m=\u001b[39m ( \u001b[38;5;241m10\u001b[39m , \u001b[38;5;241m20\u001b[39m , \u001b[38;5;241m30\u001b[39m , \u001b[38;5;241m40\u001b[39m ) \n\u001b[1;32m----> 9\u001b[0m tup[\u001b[38;5;241m1\u001b[39m]\u001b[38;5;241m=\u001b[39m \u001b[38;5;241m100\u001b[39m \n\u001b[0;32m     10\u001b[0m \u001b[38;5;28mprint\u001b[39m(tup)\n",
      "\u001b[1;31mTypeError\u001b[0m: 'tuple' object does not support item assignment"
     ]
    }
   ],
   "source": [
    "# mutable\n",
    "lst = [ 10 , 20 , 30 , 40 ] \n",
    "lst.append(60)\n",
    "lst[1] = 100\n",
    "print(lst)\n",
    "\n",
    "# immutable\n",
    "tup= ( 10 , 20 , 30 , 40 ) \n",
    "tup[1]= 100 \n",
    "print(tup) "
   ]
  },
  {
   "cell_type": "code",
   "execution_count": 24,
   "id": "9cfece7b-66c9-416a-8ee5-8355373e3987",
   "metadata": {},
   "outputs": [
    {
     "name": "stdout",
     "output_type": "stream",
     "text": [
      "(10, 20, 30, 40, 10, 20, 30, 10)\n",
      "3\n",
      "3\n"
     ]
    }
   ],
   "source": [
    "# tuple method \n",
    "tup= (10, 20, 30, 40, 10, 20, 30, 10)\n",
    "print(tup)\n",
    "print(tup.count(10))\n",
    "print(tup.index(40))"
   ]
  },
  {
   "cell_type": "markdown",
   "id": "92d622a1-44c0-4cb9-979c-bb47f9e68aee",
   "metadata": {},
   "source": [
    "### SET"
   ]
  },
  {
   "cell_type": "code",
   "execution_count": 6,
   "id": "25d90d50-172b-4154-9a92-5dbfd40a8c87",
   "metadata": {},
   "outputs": [
    {
     "name": "stdout",
     "output_type": "stream",
     "text": [
      "<class 'set'> {1, 2, 3}\n",
      "<class 'list'>\n",
      "<class 'tuple'>\n",
      "<class 'set'>\n"
     ]
    }
   ],
   "source": [
    "A = { 1, 2, 3 } \n",
    "print(type(A) , A)\n",
    "\n",
    "# empty structures \n",
    "B = [] \n",
    "print(type(B)) \n",
    "\n",
    "C= () \n",
    "print(type(C))\n",
    "\n",
    "S = set()\n",
    "print(type(S))"
   ]
  },
  {
   "cell_type": "code",
   "execution_count": 7,
   "id": "e5e9ee8b-0bae-4b03-a886-4f785afd12ed",
   "metadata": {},
   "outputs": [
    {
     "name": "stdout",
     "output_type": "stream",
     "text": [
      "not present\n",
      "10\n"
     ]
    }
   ],
   "source": [
    "#accessing \n",
    "\n",
    "S = { 1, 2, 3, 4, 1, 2 } \n",
    "\n",
    "if (10 in S):\n",
    "    print(\"3 is present\")\n",
    "else:\n",
    "    print(\"not present\")\n",
    "\n",
    "sum = 0 \n",
    "for element in S:\n",
    "    sum+= element \n",
    "print(sum)"
   ]
  },
  {
   "cell_type": "code",
   "execution_count": 8,
   "id": "dfc6bba6-43be-411c-847f-ece476eb10b6",
   "metadata": {},
   "outputs": [
    {
     "name": "stdout",
     "output_type": "stream",
     "text": [
      "{0, 1, 2, 3, 4, 5, 10}\n",
      "{2, 3, 4, 5, 10}\n",
      "{2, 3, 4, 10}\n"
     ]
    }
   ],
   "source": [
    "#mutable\n",
    "s = {5, 1, 2, 4, 3} \n",
    "\n",
    "s.add(10) \n",
    "s.add(0)\n",
    "print(s)\n",
    "\n",
    "s.pop()\n",
    "s.pop()\n",
    "print(s)\n",
    "\n",
    "s.remove(5) \n",
    "print(s)"
   ]
  },
  {
   "cell_type": "code",
   "execution_count": 10,
   "id": "2adb7c7a-1cab-47df-a864-dd4caf0e7680",
   "metadata": {},
   "outputs": [
    {
     "name": "stdout",
     "output_type": "stream",
     "text": [
      "{1, 2, 3, 4, 5, 6}\n",
      "{1, 2}\n",
      "False\n",
      "False\n"
     ]
    }
   ],
   "source": [
    "#Set Mathematical Methods\n",
    "a = { 1, 2, 3 } \n",
    "b = { 1, 2, 5, 6, 4 } \n",
    "\n",
    "print(a.union(b))\n",
    "print(a.intersection(b)) \n",
    "print(a.isdisjoint(b)) \n",
    "print(a.issubset(b)) "
   ]
  },
  {
   "cell_type": "markdown",
   "id": "831e7dd4-6b6f-4327-bbe2-d798cc8b610b",
   "metadata": {},
   "source": [
    "### DICTIONARY"
   ]
  },
  {
   "cell_type": "code",
   "execution_count": 12,
   "id": "c97a2c57-5bf8-45c9-9a90-342bc3e0a712",
   "metadata": {},
   "outputs": [
    {
     "name": "stdout",
     "output_type": "stream",
     "text": [
      "<class 'dict'>\n",
      "<class 'dict'> {'name': 'Phitron', 'age': 20, 'address': 'Dhaka', 'numbers': [10, 20, 30]}\n"
     ]
    }
   ],
   "source": [
    "# empty \n",
    "dic = {}\n",
    "print(type(dic))\n",
    "\n",
    "dic = { \"name\" : \"Phitron\" , \"age\": 20 , \"address\" : \"Dhaka\" , \"numbers\":[10,20,30] } \n",
    "print(type(dic) , dic) "
   ]
  },
  {
   "cell_type": "code",
   "execution_count": 14,
   "id": "d4541fb3-706f-4bd3-8aad-f88fb043dba7",
   "metadata": {},
   "outputs": [
    {
     "name": "stdout",
     "output_type": "stream",
     "text": [
      "[10, 20, 30]\n",
      "30\n",
      "{'name': 'Phitron', 'age': 30, 'address': 'Dhaka', 'numbers': [10, 20, 30]}\n"
     ]
    }
   ],
   "source": [
    "# access \n",
    "# dic_name[key]\n",
    "\n",
    "print(dic[\"numbers\"])\n",
    "print(dic.get(\"age\"))\n",
    "\n",
    "dic[\"name\"] = \"Phitron AI/ML\" \n",
    "dic = { \"name\" : \"Phitron\" , \"age\" : 20 , \"address\" : \"Dhaka\" , \"numbers\" : [10,20,30] , \"age\":30} \n",
    "print(dic)"
   ]
  },
  {
   "cell_type": "code",
   "execution_count": 16,
   "id": "461c3b8d-0176-4b56-be5c-2ae90a2dc320",
   "metadata": {},
   "outputs": [
    {
     "name": "stdout",
     "output_type": "stream",
     "text": [
      "{'name': 'Phitron', 'age': 30, 'address': 'Dhaka', 'numbers': [10, 20, 30], 'math_marks': 30, 'english_marks': 40}\n",
      "30\n",
      "30\n",
      "{'name': 'Phitron', 'age': 30, 'address': 'Dhaka', 'numbers': [10, 20, 30]}\n",
      "{'name': 'Phitron', 'age': 30, 'address': 'Dhaka', 'numbers': [10, 20, 30], 'math_marks': 30}\n",
      "{'name': 'Phitron', 'age': 30, 'address': 'Dhaka', 'numbers': [10, 20, 30], 'math_marks': 30, 'english_marks': 40}\n",
      "{'name': 'Phitron', 'age': 30, 'address': 'Dhaka', 'numbers': [10, 20, 30], 'english_marks': 40}\n",
      "{'name': 'Phitron', 'age': 30, 'address': 'Dhaka', 'numbers': [10, 20, 30], 'english_marks': 40}\n"
     ]
    }
   ],
   "source": [
    "#printing default values\n",
    "print(dic) \n",
    "print(dic.get(\"math_marks\"))\n",
    "print(dic.get(\"math_marks\",0))\n",
    "\n",
    "# adding a value\n",
    "dic ={ \"name\" : \"Phitron\" , \"age\": 20 , \"address\" : \"Dhaka\" , \"numbers\" : [10,20,30] , \"age\":30}\n",
    "print(dic)\n",
    "\n",
    "dic[\"math_marks\"]= 30 \n",
    "print(dic) \n",
    "\n",
    "dic.update({\"english_marks\": 40}) \n",
    "print(dic)\n",
    "\n",
    "# deleting \n",
    "del dic[\"math_marks\"]\n",
    "print(dic)\n",
    "\n",
    "dic_2=dic.copy()\n",
    "print(dic_2)"
   ]
  },
  {
   "cell_type": "code",
   "execution_count": 17,
   "id": "0d9a1e12-0183-4aba-8cb2-4401b4563f1d",
   "metadata": {},
   "outputs": [
    {
     "ename": "TypeError",
     "evalue": "unhashable type: 'dict'",
     "output_type": "error",
     "traceback": [
      "\u001b[1;31m---------------------------------------------------------------------------\u001b[0m",
      "\u001b[1;31mTypeError\u001b[0m                                 Traceback (most recent call last)",
      "Cell \u001b[1;32mIn[17], line 2\u001b[0m\n\u001b[0;32m      1\u001b[0m \u001b[38;5;66;03m# testing \u001b[39;00m\n\u001b[1;32m----> 2\u001b[0m dic_3 \u001b[38;5;241m=\u001b[39m { {\u001b[38;5;124m\"\u001b[39m\u001b[38;5;124mname\u001b[39m\u001b[38;5;124m\"\u001b[39m : \u001b[38;5;124m\"\u001b[39m\u001b[38;5;124madil\u001b[39m\u001b[38;5;124m\"\u001b[39m , \u001b[38;5;124m\"\u001b[39m\u001b[38;5;124mage\u001b[39m\u001b[38;5;124m\"\u001b[39m :\u001b[38;5;241m20\u001b[39m} : \u001b[38;5;241m20\u001b[39m }\n\u001b[0;32m      3\u001b[0m \u001b[38;5;28mprint\u001b[39m(dic_3)\n",
      "\u001b[1;31mTypeError\u001b[0m: unhashable type: 'dict'"
     ]
    }
   ],
   "source": [
    "# testing \n",
    "dic_3 = { {\"name\" : \"adil\" , \"age\" :20} : 20 }\n",
    "print(dic_3)"
   ]
  },
  {
   "cell_type": "code",
   "execution_count": 21,
   "id": "11623af3-d84e-4be3-9ba6-5fff5b347dab",
   "metadata": {},
   "outputs": [
    {
     "name": "stdout",
     "output_type": "stream",
     "text": [
      "dict_keys(['name', 'age', 'address', 'numbers'])\n",
      "dict_keys(['name', 'age', 'address', 'numbers', 'math_numbers'])\n",
      "dict_values(['Phitron', 30, 'Dhaka', [10, 20, 30], 30])\n",
      "dict_values(['Phitron', 30, 'Dhaka', [10, 20, 30], 40])\n",
      "dict_items([('name', 'Phitron'), ('age', 30), ('address', 'Dhaka'), ('numbers', [10, 20, 30]), ('math_numbers', 40)])\n"
     ]
    }
   ],
   "source": [
    "# View Method\n",
    "dic ={ \"name\" : \"Phitron\" , \"age\" : 20 , \"address\" : \"Dhaka\" , \"numbers\" : [10,20,30] , \"age\" : 30}\n",
    "\n",
    "keys = dic.keys()\n",
    "print(keys)\n",
    "\n",
    "dic[\"math_numbers\"] = 30 \n",
    "print(keys) \n",
    "\n",
    "values = dic.values() \n",
    "print(values) \n",
    "\n",
    "dic[\"math_numbers\"] = 40 \n",
    "print(values) \n",
    "\n",
    "items = dic.items() \n",
    "print(items)"
   ]
  },
  {
   "cell_type": "code",
   "execution_count": 20,
   "id": "abfeeae9-ed1d-4dea-8812-052baeb1175f",
   "metadata": {},
   "outputs": [
    {
     "name": "stdout",
     "output_type": "stream",
     "text": [
      "name -> Phitron\n",
      "age -> 30\n",
      "address -> Dhaka\n",
      "numbers -> [10, 20, 30]\n",
      "math_numbers -> 40\n"
     ]
    }
   ],
   "source": [
    "# iteration \n",
    "for key,value in dic.items():\n",
    "    print(f\"{key} -> {value}\")"
   ]
  },
  {
   "cell_type": "code",
   "execution_count": 22,
   "id": "7afabbc1-d3e6-4b11-bfaf-4edfbc072fd5",
   "metadata": {},
   "outputs": [
    {
     "name": "stdout",
     "output_type": "stream",
     "text": [
      "{2: 4, 4: 16, 6: 36, 8: 64, 10: 100}\n",
      "{(10, 10.5): 'dhaka', (20.5, 192): 'chattogram', (101, 102): 'sylhet'}\n"
     ]
    }
   ],
   "source": [
    "# comprehension\n",
    "square = {x:x**2 for x in range(1,11) if x%2 == 0} # { expression : iterable : condition }\n",
    "print(square)\n",
    "\n",
    "Co_ordinates = [(10,10.5), (20.5,192), (101,102) ]\n",
    "Locations =[\"dhaka\", \"chattogram\", \"sylhet\"]\n",
    "exact_locations = {co_or : loc for co_or, loc in zip(Co_ordinates,Locations)}\n",
    "print(exact_locations) "
   ]
  },
  {
   "cell_type": "code",
   "execution_count": null,
   "id": "cc69e774-7b79-458e-a4fe-882371ff50c5",
   "metadata": {},
   "outputs": [],
   "source": []
  }
 ],
 "metadata": {
  "kernelspec": {
   "display_name": "Python [conda env:base] *",
   "language": "python",
   "name": "conda-base-py"
  },
  "language_info": {
   "codemirror_mode": {
    "name": "ipython",
    "version": 3
   },
   "file_extension": ".py",
   "mimetype": "text/x-python",
   "name": "python",
   "nbconvert_exporter": "python",
   "pygments_lexer": "ipython3",
   "version": "3.13.5"
  }
 },
 "nbformat": 4,
 "nbformat_minor": 5
}
