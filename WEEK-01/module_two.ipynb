{
 "cells": [
  {
   "cell_type": "markdown",
   "id": "39ab2a8c",
   "metadata": {},
   "source": [
    "### MODULE 2"
   ]
  },
  {
   "cell_type": "code",
   "execution_count": 10,
   "id": "86ea5028",
   "metadata": {},
   "outputs": [
    {
     "name": "stdout",
     "output_type": "stream",
     "text": [
      "Name: John\n",
      "Age: 10\n",
      "Height: 5.9\n",
      "Is student: True\n",
      "<class 'int'> <class 'str'> <class 'float'> <class 'bool'>\n"
     ]
    }
   ],
   "source": [
    "#variables in python\n",
    "age = 10\n",
    "name = \"John\"\n",
    "height = 5.9\n",
    "is_student = True\n",
    "print(\"Name:\", name)\n",
    "print(\"Age:\", age)  \n",
    "print(\"Height:\", height)\n",
    "print(\"Is student:\", is_student)\n",
    "print(type(age), type(name), type(height), type(is_student))"
   ]
  },
  {
   "cell_type": "code",
   "execution_count": 12,
   "id": "8941d0a8",
   "metadata": {},
   "outputs": [
    {
     "name": "stdout",
     "output_type": "stream",
     "text": [
      "5 <class 'int'>\n",
      "45.0\n"
     ]
    }
   ],
   "source": [
    "#input and typecasting\n",
    "age = int(input(\"Enter your age: \")) #input function always return string, so we need to typecast it to int\n",
    "print(age, type(age))\n",
    "\n",
    "#Precedence\n",
    "result = 10 + 20 * 30 / 15 - 5\n",
    "print(result) #10 + (20 * 30) / 15 - 5 = 10 + 600 / 15 - 5 = 10 + 40 - 5 = 45.0"
   ]
  },
  {
   "cell_type": "code",
   "execution_count": null,
   "id": "002a2d8e",
   "metadata": {},
   "outputs": [
    {
     "name": "stdout",
     "output_type": "stream",
     "text": [
      "13\n",
      "7\n",
      "30\n",
      "3.3333333333333335\n",
      "3\n",
      "1\n",
      "1000\n",
      "False\n",
      "True\n",
      "False\n",
      "True\n",
      "False\n",
      "True\n",
      "False\n",
      "True\n",
      "False\n",
      "15\n",
      "2\n",
      "11\n",
      "9\n",
      "-11\n",
      "40\n",
      "2\n",
      "True\n",
      "True\n",
      "True\n",
      "False\n"
     ]
    }
   ],
   "source": [
    "#Arithmetic operators\n",
    "a = 10\n",
    "b = 3\n",
    "print(a + b)  # Addition\n",
    "print(a - b)  # Subtraction \n",
    "print(a * b)  # Multiplication\n",
    "print(a / b)  # Division (float)\n",
    "print(a // b) # Floor Division (int)\n",
    "print(a % b)  # Modulus (int)\n",
    "print(a ** b) # Exponentiation (int)\n",
    "\n",
    "#Comparison operators\n",
    "x = 5\n",
    "y = 10\n",
    "print(x == y)  # Equality\n",
    "print(x != y)  # Inequality\n",
    "print(x > y)   # Greater than\n",
    "print(x < y)   # Less than\n",
    "print(x >= y)  # Greater than or equal to\n",
    "print(x <= y)  # Less than or equal to\n",
    "\n",
    "#Logical operators\n",
    "p = True\n",
    "q = False\n",
    "print(p and q) # Logical AND\n",
    "print(p or q)  # Logical OR\n",
    "print(not p)   # Logical NOT\n",
    "\n",
    "#Assignment operators\n",
    "num = 10\n",
    "num += 5  # Equivalent to num = num + 5\n",
    "print(num)\n",
    "\n",
    "#Bitwise operators\n",
    "a = 10\n",
    "b = 3\n",
    "print(a & b)  # Bitwise AND -> 00001010 & 00000011 = 00000010\n",
    "print(a | b)  # Bitwise OR -> 00001010 | 00000011 = 00001011\n",
    "print(a ^ b)  # Bitwise XOR -> 00001010 ^ 00000011 = 00001001\n",
    "print(~a)     # Bitwise NOT -> ~00001010 = 11110101 (in 8-bit representation)\n",
    "print(a << 2) # Bitwise left shift -> 00001010 << 2 = 00101000\n",
    "print(a >> 2) # Bitwise right shift -> 00001010 >> 2 = 00000010\n",
    "\n",
    "#Membership operators\n",
    "my_list = [1, 2, 3, 4, 5]\n",
    "print(3 in my_list)    # Membership test\n",
    "print(6 not in my_list) # Membership test\n",
    "\n",
    "#Identity operators\n",
    "x = 5\n",
    "y = 5\n",
    "print(x is y)  # Identity operator\n",
    "print(x is not y) # Identity operator"
   ]
  },
  {
   "cell_type": "code",
   "execution_count": null,
   "id": "3b3aa71e",
   "metadata": {},
   "outputs": [
    {
     "name": "stdout",
     "output_type": "stream",
     "text": [
      "a is less than b\n",
      "The number is negative.\n",
      "a is less than or equal to b\n",
      "0\n",
      "10\n",
      "10\n",
      "0\n",
      "10\n"
     ]
    }
   ],
   "source": [
    "#Conditional statements\n",
    "a = 10\n",
    "b = 20\n",
    "if a > b:\n",
    "    print(\"a is greater than b\")\n",
    "elif a < b:\n",
    "    print(\"a is less than b\")\n",
    "else:\n",
    "    print(\"a is equal to b\")\n",
    "\n",
    "#Nested if\n",
    "num = int(input(\"Enter a number: \"))\n",
    "if num >= 0:\n",
    "    if num == 0:\n",
    "        print(\"The number is zero.\")\n",
    "    else:\n",
    "        print(\"The number is positive.\")\n",
    "else:\n",
    "    print(\"The number is negative.\")\n",
    "\n",
    "#Ternary operator\n",
    "a = 10\n",
    "b = 20\n",
    "result = \"a is greater than b\" if a > b else \"a is less than or equal to b\"\n",
    "print(result)\n",
    "\n",
    "#Short circuit evaluation\n",
    "a = 10\n",
    "b = 0\n",
    "result = a and b\n",
    "print(result) #0\n",
    "result = a or b\n",
    "print(result) #10\n",
    "result = a and b or a\n",
    "print(result) #10\n",
    "result = a and b and a\n",
    "print(result) #0\n",
    "result = a or b or a\n",
    "print(result) #10"
   ]
  },
  {
   "cell_type": "code",
   "execution_count": null,
   "id": "6d944d77",
   "metadata": {},
   "outputs": [
    {
     "name": "stdout",
     "output_type": "stream",
     "text": [
      "0\n",
      "1\n",
      "2\n",
      "3\n",
      "4\n",
      "1\n",
      "3\n",
      "5\n",
      "5\n",
      "4\n",
      "3\n",
      "2\n",
      "1\n",
      "Count: $0\n",
      "Count: $1\n",
      "Count: $2\n",
      "Count: $3\n",
      "Count: $4\n",
      "1\n",
      "2\n",
      "3\n",
      "4\n",
      "5\n",
      "1\n",
      "3\n",
      "5\n",
      "7\n",
      "9\n"
     ]
    }
   ],
   "source": [
    "#For loop\n",
    "for i in range(5): #0, 1, 2, 3, 4\n",
    "    print(i)\n",
    "for i in range(1, 6, 2): #1, 3, 5\n",
    "    print(i)\n",
    "for i in range(5, 0, -1): #5, 4, 3, 2, 1\n",
    "    print(i)\n",
    "\n",
    "#While loop\n",
    "count = 0\n",
    "while count < 5:\n",
    "    print(f\"Count: ${count}\")\n",
    "    count += 1\n",
    "\n",
    "#Break and continue\n",
    "for i in range(1, 10):\n",
    "    if i == 6:\n",
    "        break  # Exit the loop when i is 6\n",
    "    print(i)\n",
    "for i in range(10):\n",
    "    if i % 2 == 0:\n",
    "        continue  # Skip even numbers\n",
    "    print(i)"
   ]
  }
 ],
 "metadata": {
  "kernelspec": {
   "display_name": "Python [conda env:base] *",
   "language": "python",
   "name": "conda-base-py"
  },
  "language_info": {
   "codemirror_mode": {
    "name": "ipython",
    "version": 3
   },
   "file_extension": ".py",
   "mimetype": "text/x-python",
   "name": "python",
   "nbconvert_exporter": "python",
   "pygments_lexer": "ipython3",
   "version": "3.13.5"
  }
 },
 "nbformat": 4,
 "nbformat_minor": 5
}
