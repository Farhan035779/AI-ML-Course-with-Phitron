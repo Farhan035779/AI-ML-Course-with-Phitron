{
 "cells": [
  {
   "cell_type": "markdown",
   "id": "b93f0715",
   "metadata": {},
   "source": [
    "### FIND MIN MAX OF 3 NUMBERS"
   ]
  },
  {
   "cell_type": "code",
   "execution_count": 2,
   "id": "0a267514",
   "metadata": {},
   "outputs": [
    {
     "name": "stdout",
     "output_type": "stream",
     "text": [
      "1 3\n"
     ]
    }
   ],
   "source": [
    "numbers = input().split(\" \")\n",
    "x = int(numbers[0])\n",
    "y = int(numbers[1])\n",
    "z = int(numbers[2])\n",
    "max = x\n",
    "min = x\n",
    "if y > max:\n",
    "    max = y\n",
    "if z > max:\n",
    "    max = z\n",
    "if y < min:\n",
    "    min = y\n",
    "if z < min:\n",
    "    min = z\n",
    "print(min, max)"
   ]
  },
  {
   "cell_type": "markdown",
   "id": "e1c0827f",
   "metadata": {},
   "source": [
    "### COUNT EVEN, ODD, POSITIVE, NEGATIVE"
   ]
  },
  {
   "cell_type": "code",
   "execution_count": 7,
   "id": "4c43b346",
   "metadata": {},
   "outputs": [
    {
     "name": "stdout",
     "output_type": "stream",
     "text": [
      "Even: 3\n",
      "Odd: 2\n",
      "Positive: 1\n",
      "Negative: 3\n"
     ]
    }
   ],
   "source": [
    "input_numbers = int(input())\n",
    "numbers = input().split(\" \")\n",
    "even_count = 0\n",
    "odd_count = 0\n",
    "positive_count = 0\n",
    "negative_count = 0\n",
    "for i in range(input_numbers):\n",
    "    num = int(numbers[i])\n",
    "    if num % 2 == 0:\n",
    "        even_count += 1\n",
    "    else:\n",
    "        odd_count += 1\n",
    "    if num > 0:\n",
    "        positive_count += 1\n",
    "    elif num < 0:\n",
    "        negative_count += 1\n",
    "print(f\"Even: {even_count}\")\n",
    "print(f\"Odd: {odd_count}\")\n",
    "print(f\"Positive: {positive_count}\")\n",
    "print(f\"Negative: {negative_count}\")"
   ]
  },
  {
   "cell_type": "markdown",
   "id": "3594073e",
   "metadata": {},
   "source": [
    "### PRINT DIGITS"
   ]
  },
  {
   "cell_type": "code",
   "execution_count": 14,
   "id": "26a15f89",
   "metadata": {},
   "outputs": [
    {
     "name": "stdout",
     "output_type": "stream",
     "text": [
      "0\n",
      "3 2 1 \n",
      "6 5 4 \n"
     ]
    }
   ],
   "source": [
    "testcases = int(input())\n",
    "for i in range(testcases):\n",
    "    num = int(input())\n",
    "    if num == 0:\n",
    "        print(0)\n",
    "        continue\n",
    "    while num > 0:\n",
    "        print(num % 10, end=\" \")\n",
    "        num = num // 10\n",
    "    print()"
   ]
  },
  {
   "cell_type": "markdown",
   "id": "886add9b-2f64-4ecd-97b7-720690e1769f",
   "metadata": {},
   "source": [
    "### SMART LIGHT PILOT"
   ]
  },
  {
   "cell_type": "code",
   "execution_count": 7,
   "id": "a03ace55-b8d0-45b6-98c3-d9ae74b72188",
   "metadata": {},
   "outputs": [
    {
     "name": "stdin",
     "output_type": "stream",
     "text": [
      " 4 5\n"
     ]
    },
    {
     "name": "stdout",
     "output_type": "stream",
     "text": [
      "OFF\n"
     ]
    }
   ],
   "source": [
    "inputs = input().split(\" \")\n",
    "br = float(inputs[0])\n",
    "th = float(inputs[1])\n",
    "print(\"ON\" if br >= th else \"OFF\")"
   ]
  },
  {
   "cell_type": "markdown",
   "id": "d279b5ac-472f-418a-b5fe-f36ae6b9d11e",
   "metadata": {},
   "source": [
    "### MIN-MAX SCALING"
   ]
  },
  {
   "cell_type": "code",
   "execution_count": 11,
   "id": "ca58de13-fefa-4f69-8a41-f913b83b4d74",
   "metadata": {},
   "outputs": [
    {
     "name": "stdin",
     "output_type": "stream",
     "text": [
      " 0 0 10\n"
     ]
    },
    {
     "name": "stdout",
     "output_type": "stream",
     "text": [
      "0.00\n"
     ]
    }
   ],
   "source": [
    "inputs = input().split(\" \")\n",
    "x = float(inputs[0])\n",
    "min_v = float(inputs[1])\n",
    "max_v = float(inputs[2])\n",
    "norm = (x - min_v) / (max_v - min_v)\n",
    "print(f\"{norm:.2f}\")"
   ]
  },
  {
   "cell_type": "markdown",
   "id": "8397a440-f376-4640-9a1f-66e5cdf568f6",
   "metadata": {},
   "source": [
    "### MINI LOSS TRACKER"
   ]
  },
  {
   "cell_type": "code",
   "execution_count": 15,
   "id": "77f8fd85-4a75-40b0-95f0-c1fcec574344",
   "metadata": {},
   "outputs": [
    {
     "name": "stdin",
     "output_type": "stream",
     "text": [
      " 3\n",
      " 0.35\n",
      " 0.20\n",
      " 0.30\n",
      " 0.40\n"
     ]
    },
    {
     "name": "stdout",
     "output_type": "stream",
     "text": [
      "PASS\n"
     ]
    }
   ],
   "source": [
    "losses = int(input())\n",
    "target = float(input())\n",
    "total = 0\n",
    "for i in range(losses):\n",
    "    loss = float(input())\n",
    "    total += loss\n",
    "print(\"PASS\" if (total/losses) <= target else \"RETRY\")"
   ]
  },
  {
   "cell_type": "markdown",
   "id": "ba00061e-64df-49c5-b8b8-5e84fd0a214e",
   "metadata": {},
   "source": [
    "### MAJORITY VOTE GATE"
   ]
  },
  {
   "cell_type": "code",
   "execution_count": 18,
   "id": "14922942-1a71-4403-8b13-9973d1f20b0a",
   "metadata": {},
   "outputs": [
    {
     "name": "stdin",
     "output_type": "stream",
     "text": [
      " 2\n",
      " NO\n",
      " YES\n"
     ]
    },
    {
     "name": "stdout",
     "output_type": "stream",
     "text": [
      "ACCEPT\n"
     ]
    }
   ],
   "source": [
    "votes = int(input())\n",
    "yesses = 0; nos = 0\n",
    "for i in range(votes):\n",
    "    vote = (input())\n",
    "    if vote == \"YES\":\n",
    "        yesses += 1\n",
    "    else:\n",
    "        nos += 1\n",
    "print(\"ACCEPT\" if nos <= yesses else \"REJECT\")"
   ]
  },
  {
   "cell_type": "markdown",
   "id": "7e6a4770-dc0b-430c-8878-51e305780c4f",
   "metadata": {},
   "source": [
    "### MOOD DETECTOR"
   ]
  },
  {
   "cell_type": "code",
   "execution_count": 21,
   "id": "fe9564d3-e317-4f08-a3a3-69bf61f8a0b5",
   "metadata": {},
   "outputs": [
    {
     "name": "stdin",
     "output_type": "stream",
     "text": [
      " rain IS falling\n"
     ]
    },
    {
     "name": "stdout",
     "output_type": "stream",
     "text": [
      "Neutral Mood\n"
     ]
    }
   ],
   "source": [
    "message = input().lower()\n",
    "if (\"happy\" in message) or (\"joy\" in message) or (\"smile\" in message):\n",
    "    print(\"Happy Mood\")\n",
    "elif (\"sad\" in message) or (\"cry\" in message) or (\"angry\" in message):\n",
    "    print(\"Sad Mood\")\n",
    "else:\n",
    "    print(\"Neutral Mood\")"
   ]
  },
  {
   "cell_type": "markdown",
   "id": "9d3d840d-afe6-49d7-810d-c2e61db28228",
   "metadata": {},
   "source": [
    "### BRIGHTNESS ANALYZER"
   ]
  },
  {
   "cell_type": "code",
   "execution_count": 24,
   "id": "bcb5dbce-b729-49b8-aff8-f9443d5af6d2",
   "metadata": {},
   "outputs": [
    {
     "name": "stdin",
     "output_type": "stream",
     "text": [
      " 200 230 255 180\n"
     ]
    },
    {
     "name": "stdout",
     "output_type": "stream",
     "text": [
      "Bright Image\n"
     ]
    }
   ],
   "source": [
    "inputs = input().split(\" \")\n",
    "total = 0\n",
    "num = len(inputs)\n",
    "for i in range(num):\n",
    "    pixel = int(inputs[i])\n",
    "    total += pixel\n",
    "avg = total/num\n",
    "if avg < 85:\n",
    "    print(\"Dark Image\")\n",
    "elif avg >= 85 and avg <= 170:\n",
    "    print(\"Normal Image\")\n",
    "elif avg > 170:\n",
    "    print(\"Bright Image\")"
   ]
  },
  {
   "cell_type": "markdown",
   "id": "a5ccf2fd-5d32-4eba-8050-0642499f7d0d",
   "metadata": {},
   "source": [
    "### BIAS DETECTOR"
   ]
  },
  {
   "cell_type": "code",
   "execution_count": 32,
   "id": "851e2d21-5c79-4e18-bdf2-6146aeb9e224",
   "metadata": {},
   "outputs": [
    {
     "name": "stdin",
     "output_type": "stream",
     "text": [
      " A B A B A B\n"
     ]
    },
    {
     "name": "stdout",
     "output_type": "stream",
     "text": [
      "Fair Model\n"
     ]
    }
   ],
   "source": [
    "inputs = input().split(\" \")\n",
    "num = len(inputs)\n",
    "A_s = inputs.count('A')\n",
    "B_s = inputs.count('B')\n",
    "if (A_s > 0.7*num) or (B_s > 0.7*num):\n",
    "    print(\"Biased Model\")\n",
    "else:\n",
    "    print(\"Fair Model\")"
   ]
  },
  {
   "cell_type": "markdown",
   "id": "a9fc3a2c-7315-4cc7-924e-b62c97769fb8",
   "metadata": {},
   "source": [
    "### KEYWORD COUNTER"
   ]
  },
  {
   "cell_type": "code",
   "execution_count": 34,
   "id": "7b35865b-9333-4f67-9041-f2973f47ad27",
   "metadata": {},
   "outputs": [
    {
     "name": "stdin",
     "output_type": "stream",
     "text": [
      " i love to train a neural model\n"
     ]
    },
    {
     "name": "stdout",
     "output_type": "stream",
     "text": [
      "AI Detected\n"
     ]
    }
   ],
   "source": [
    "#ai, data, model, learn, train, neural\n",
    "message = input().split(\" \")\n",
    "count = 0\n",
    "if \"ai\" in message:\n",
    "    count += 1\n",
    "if \"data\" in message:\n",
    "    count += 1\n",
    "if \"model\" in message:\n",
    "    count += 1\n",
    "if \"learn\" in message:\n",
    "    count += 1\n",
    "if \"train\" in message:\n",
    "    count += 1\n",
    "if \"neural\" in message:\n",
    "    count += 1\n",
    "print(\"AI Detected\" if count >= 2 else \"Not AI Related\")"
   ]
  },
  {
   "cell_type": "markdown",
   "id": "8e39da7f-b16a-4b8b-9498-39907143d712",
   "metadata": {},
   "source": [
    "### UNIQUE LIST"
   ]
  },
  {
   "cell_type": "code",
   "execution_count": 1,
   "id": "efd7b1cf-c30a-4044-93d8-65304c61b2f9",
   "metadata": {},
   "outputs": [
    {
     "name": "stdout",
     "output_type": "stream",
     "text": [
      "[10, 20, 50, 30]\n"
     ]
    }
   ],
   "source": [
    "lst = [10 , 20 , 10 , 30 , 30 , 50 , 30 , 10 , 20 , 10 , 10 ]\n",
    "unique_values = set(lst) ## conversion\n",
    "lst = list(unique_values) \n",
    "print(lst) "
   ]
  },
  {
   "cell_type": "markdown",
   "id": "364b026e-b39c-4274-9023-a14b15dbc825",
   "metadata": {},
   "source": [
    "### WORD COUNT"
   ]
  },
  {
   "cell_type": "code",
   "execution_count": 2,
   "id": "433d7688-3cf1-4f5b-8f51-8be365442905",
   "metadata": {},
   "outputs": [
    {
     "name": "stdout",
     "output_type": "stream",
     "text": [
      "count of data is 9\n",
      "count of science is 1\n",
      "count of machine is 3\n",
      "count of learning is 2\n",
      "count of analysis is 1\n",
      "count of statistics is 1\n",
      "count of models is 2\n",
      "count of training is 1\n",
      "count of validation is 2\n",
      "count of features is 2\n",
      "count of labels is 1\n",
      "count of preprocessing is 1\n",
      "count of augmentation is 1\n",
      "count of optimization is 1\n",
      "count of gradient is 1\n",
      "count of descent is 1\n",
      "count of neural is 1\n",
      "count of networks is 1\n",
      "count of tensors is 1\n",
      "count of matrices is 1\n",
      "count of visualization is 1\n",
      "count of exploration is 1\n",
      "count of pandas is 1\n",
      "count of numpy is 1\n",
      "count of matplotlib is 1\n",
      "count of seaborn is 1\n",
      "count of scikitlearn is 1\n",
      "count of tensorflow is 1\n",
      "count of pytorch is 1\n",
      "count of deployment is 1\n",
      "count of inference is 1\n",
      "count of production is 1\n",
      "count of monitoring is 1\n",
      "count of reproducibility is 1\n",
      "count of experiments is 1\n",
      "count of results is 1\n",
      "count of metrics is 1\n",
      "count of accuracy is 1\n",
      "count of precision is 1\n",
      "count of recall is 1\n",
      "count of f1 is 1\n",
      "count of cross is 1\n"
     ]
    }
   ],
   "source": [
    "string = \"\"\"data science machine learning data analysis machine \n",
    "learning statistics data models data training data validation features\n",
    "features labels preprocessing data augmentation models data optimization \n",
    "gradient descent neural networks data tensors matrices visualization \n",
    "exploration pandas numpy matplotlib seaborn scikitlearn tensorflow pytorch \n",
    "deployment inference production monitoring reproducibility experiments results \n",
    "metrics accuracy precision recall f1 cross validation data machine\n",
    "\"\"\"\n",
    "\n",
    "words = string.split()\n",
    "count = {} \n",
    "\n",
    "for word in words:\n",
    "    count[word]= count.get(word,0) +1  \n",
    "\n",
    "for k,v in count.items():\n",
    "    print(f\"count of {k} is {v}\")"
   ]
  },
  {
   "cell_type": "code",
   "execution_count": null,
   "id": "783e1e1e-d980-487a-8814-2fdbf8538d20",
   "metadata": {},
   "outputs": [],
   "source": []
  }
 ],
 "metadata": {
  "kernelspec": {
   "display_name": "Python [conda env:base] *",
   "language": "python",
   "name": "conda-base-py"
  },
  "language_info": {
   "codemirror_mode": {
    "name": "ipython",
    "version": 3
   },
   "file_extension": ".py",
   "mimetype": "text/x-python",
   "name": "python",
   "nbconvert_exporter": "python",
   "pygments_lexer": "ipython3",
   "version": "3.13.5"
  }
 },
 "nbformat": 4,
 "nbformat_minor": 5
}
